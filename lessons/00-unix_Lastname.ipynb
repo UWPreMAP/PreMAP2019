{
 "cells": [
  {
   "cell_type": "markdown",
   "metadata": {
    "deletable": true,
    "editable": true
   },
   "source": [
    "# ! Make sure to change the filename so that you save your work!"
   ]
  },
  {
   "cell_type": "markdown",
   "metadata": {
    "deletable": true,
    "editable": true
   },
   "source": [
    "# Introduction to Unix"
   ]
  },
  {
   "cell_type": "markdown",
   "metadata": {
    "deletable": true,
    "editable": true
   },
   "source": [
    "Very general question time: What is it that computers *do*? Computers can interact with us, store information for us, run programs, etc. Computers can help us do science! We, as scientists, interact with computers in a couple of basic ways, through the **command line interface (CLI)** or a **graphical user interface (GUI)**. What are some examples of GUIs? Well, almost everything you're used to using is a GUI! Word, Excel, etc. GUIs are great because they require no memorization of syntax or knowledge of programming--you can simply use menus and icons to move, delete, or open a file. So why bother with CLI at all? Because it can be very convenient and powerful, and we will learn how! \n",
    "\n",
    "**COMMAND SHELL**: The command shell is a program that helps you communicate with your computer. You type a something into the terminal, and then the shell takes this and figures out what commands the computer needs to run and then orders the computer to do so. A commonly used shell for Unix is the Bash shell. Let's start off with some very basic shell commands. NOTE: Because I'm in this python notebook environment I need to include this first line with the percentage signs. It is called a magic function and it just helps me simulate being in the shell environment. You DO NOT need to use this.  "
   ]
  },
  {
   "cell_type": "markdown",
   "metadata": {
    "deletable": true,
    "editable": true
   },
   "source": [
    "## First a little computer set-up..."
   ]
  },
  {
   "cell_type": "markdown",
   "metadata": {
    "deletable": true,
    "editable": true
   },
   "source": [
    "Before we begin the lesson, we need to do a little bit of set-up. Do not worry about what all of the following commands mean for now."
   ]
  },
  {
   "cell_type": "markdown",
   "metadata": {
    "deletable": true,
    "editable": true
   },
   "source": [
    "1. Log into the astrolab computer using your UW net ID and password.\n",
    "2. In a web browser go to https://github.com/UWPreMAP/PreMAP2019\n",
    "3. Click the green button that says \"Clone or Download\"\n",
    "4. Copy the web address to your computer's clipboard (right click copy or control-C): https://github.com/UWPreMAP/PreMAP2019.git\n",
    "5. Open the Terminal application on your astrolab computer (Applications->Terminal)\n",
    "6. In the terminal, type:\n",
    "```bash\n",
    "git clone https://github.com/UWPreMAP/PreMAP2019.git\n",
    "```\n",
    "7. This will download the PreMAP files that I've created\n",
    "8. In the terminal type:\n",
    "```bash\n",
    "cd PreMAP2019\n",
    "```\n",
    "9. Then in the terminal type the following command. This will copy the file `premap_cshrc` to your home directory and rename it `.cshrc`\n",
    "```bash\n",
    "cp premap_cshrc ../.cshrc\n",
    "```\n",
    "10. Next type the following command. This will copy the file `setup-nbserver` into your home directory\n",
    "```bash\n",
    "cp setup-nbserver ..\n",
    "```\n",
    "11. Now move into your home directory with the following command:\n",
    "```bash\n",
    "cd\n",
    "```\n",
    "12. List all the files in your home directory (including hidden ones) with the following command:\n",
    "```bash\n",
    "ls -a\n",
    "```\n",
    "13. If `setup-nbserver` isn't listed in green, execute the following command. This will make the script executable.\n",
    "```bash\n",
    "chmod +x setup-nbserver\n",
    "```\n",
    "14. Then execute the `setup-nbserver` script to setup your Jupyter notebook server:\n",
    "```bash\n",
    "./setup-nbserver\n",
    "```\n",
    "\n",
    "15. The ```setup-nbserver``` script will prompt you to enter a password. **PLEASE WRITE THIS PASSWORD DOWN** as you will not be able to reset it (or at least I have no clue how to). You will need to enter this password as an extra security measure when you are opening a Jupyter notebook from another computer. Please write it down wherever you keep passwords on your computer or on one of the NASA post-it notes that Margaret has.\n",
    "16. Then type the following command to source your `cshrc` file, which will point to all the places your computer needs to know about to run python:\n",
    "```bash\n",
    "source .cshrc\n",
    "```\n"
   ]
  },
  {
   "cell_type": "markdown",
   "metadata": {
    "deletable": true,
    "editable": true
   },
   "source": [
    "### Confirm that things are working:"
   ]
  },
  {
   "cell_type": "markdown",
   "metadata": {
    "deletable": true,
    "editable": true
   },
   "source": [
    "To make sure this has worked, let's try two things. First let's just open python to make sure you're running the correction version. In your terminal, type:"
   ]
  },
  {
   "cell_type": "markdown",
   "metadata": {
    "deletable": true,
    "editable": true
   },
   "source": [
    "```bash\n",
    "python\n",
    "```"
   ]
  },
  {
   "cell_type": "markdown",
   "metadata": {
    "deletable": true,
    "editable": true
   },
   "source": [
    "You should see that you are running version 3.5.2. To get out of python just type:\n",
    "```bash\n",
    "exit()\n",
    "```"
   ]
  },
  {
   "cell_type": "markdown",
   "metadata": {
    "deletable": true,
    "editable": true
   },
   "source": [
    "Next, let's just test that you are able to open a Jupyter notebook. Type the following command in your terminal:\n",
    "```bash\n",
    "notebook\n",
    "```\n",
    "<br>\n",
    "You should see some output that says a Jupyter notebook server is running. If so, it worked! For now, just exit out of this by typing \"control-C\" and then \"y\" when it asks you if you really want to shut down the server."
   ]
  },
  {
   "cell_type": "markdown",
   "metadata": {
    "deletable": true,
    "editable": true
   },
   "source": [
    "### Each time you log on to your astrolab account (either in the lab or remotely) make sure your files are up to date\n",
    "1. Get into the PreMAP2019 directory\n",
    "```bash\n",
    "cd PreMAP2019\n",
    "```\n",
    "2. Update the directory to get any newly added files\n",
    "```bash\n",
    "git pull\n",
    "```"
   ]
  },
  {
   "cell_type": "markdown",
   "metadata": {
    "deletable": true,
    "editable": true
   },
   "source": [
    "## Basic Unix Commands - We'll do these directly in the terminal\n",
    "\n",
    "We can ask the computer who the current user is using ` whoami`\n",
    "or we can print the working directory (where we are) using `pwd`\n",
    "In both cases the shell finds the program (either `whoami` or `pwd`), runs that program, and then displays the output for us. \n",
    "\n",
    "Type the following into your terminal window and press enter:\n",
    "```bash\n",
    "whoami\n",
    "```\n",
    "also try: \n",
    "```bash\n",
    "pwd\n",
    "```\n",
    "which stands for \"print the working directory\".\n",
    "\n",
    "From the `pwd` command, we can see which directory we are currently working in. \n",
    "\n",
    "`/astro/users/<username>` refers to your so-called _home directory_. This is like the top-level directory on your computer (remember: folder = directory). \n",
    "\n",
    "We need to be working in a specific directory to do some of the examples in this lesson. Type the following into your command line and press enter.\n",
    "```bash\n",
    "cd ~/PreMAP2019/lessons/UnixIntro\n",
    "```\n",
    "We'll worry about what this command means later. Let's investigate what is in our current working directory with the `ls` command: \n",
    "```bash\n",
    "ls\n",
    "```\n",
    "The `ls` command lists what is in the current working directory. You'll see something like this:\n",
    "```\n",
    "bar.txt\n",
    "baz.txt\n",
    "bio.txt\n",
    "foo.txt\n",
    "helloworld.py\n",
    "wordcount.txt\n",
    "```\n",
    "This is showing you the same things that you'd see in a file browser. "
   ]
  },
  {
   "cell_type": "markdown",
   "metadata": {
    "deletable": true,
    "editable": true
   },
   "source": [
    "The **```ls```** command LISTS what is in the current working directory. This is not very exciting right now, because all I have in here is this notebook and a few other files. Let's move to another directory to check out more stuff. Insert your own netid where in the path where it says NETID: "
   ]
  },
  {
   "cell_type": "code",
   "execution_count": null,
   "metadata": {
    "collapsed": false,
    "deletable": true,
    "editable": true,
    "scrolled": false
   },
   "outputs": [],
   "source": [
    "%%bash\n",
    "cd /astro/users/NETID\n",
    "ls -F"
   ]
  },
  {
   "cell_type": "markdown",
   "metadata": {
    "deletable": true,
    "editable": true
   },
   "source": [
    "So now we see a lot more stuff! I also added this trailing \"-F\" flag to **```ls```** to make it more clear which things are directories (adds trailing \"/\" to directories) and which things are files. We can tell what type of files all the files are by their extensions (i.e. names are \".pdf\" or the like). How did I change to this directory? I used the **```cd```** command to change directories, followed by the PATH to the new destination directory. The **```cd```** command can be followed by a variety of other characters to move around our file system. Let's look at a couple: "
   ]
  },
  {
   "cell_type": "code",
   "execution_count": null,
   "metadata": {
    "collapsed": false,
    "deletable": true,
    "editable": true
   },
   "outputs": [],
   "source": [
    "%%bash\n",
    "pwd\n",
    "cd .\n",
    "pwd\n",
    "cd .. \n",
    "pwd \n",
    "cd ~\n",
    "pwd"
   ]
  },
  {
   "cell_type": "markdown",
   "metadata": {
    "deletable": true,
    "editable": true
   },
   "source": [
    "So what did we do? We print our working directory (/astro/users/premapta/Lectures/UnixIntro), then I changed to the \".\" directory, then printed that directory (still UnixIntro), then changed to the \"..\" directory, then printed that directory (Lectures), then changed to the home directory (/astro/users/premapta) and printed it. So what are the \".\", \"..\", and \"~\" directories? These characters the current directory, the parent directory, and the home directory, respectively. We can get them to show up when we use a special flag with our **```ls```** command: "
   ]
  },
  {
   "cell_type": "code",
   "execution_count": null,
   "metadata": {
    "collapsed": false,
    "deletable": true,
    "editable": true,
    "scrolled": true
   },
   "outputs": [],
   "source": [
    "%%bash \n",
    "ls -a"
   ]
  },
  {
   "cell_type": "markdown",
   "metadata": {
    "deletable": true,
    "editable": true
   },
   "source": [
    "This stands for \"list all.\" Now I want everyone to take a moment to do some exploring. If you type **```cd```** without a path to any directory, what happens? If you use the \"-s\" flag with **```ls```** what output do you get? "
   ]
  },
  {
   "cell_type": "markdown",
   "metadata": {
    "deletable": true,
    "editable": true
   },
   "source": [
    "Now that we've seen how to navigate through the directory structure and see what is inside directories, let's see how to create things. Navigate back to your home directory--**```cd /astro/users/your_uwnetid_here```**--so that you will be able to create directories and write files. If we want to make a new directory we will use the following command: "
   ]
  },
  {
   "cell_type": "code",
   "execution_count": null,
   "metadata": {
    "collapsed": false,
    "deletable": true,
    "editable": true
   },
   "outputs": [],
   "source": [
    "%%bash\n",
    "pwd"
   ]
  },
  {
   "cell_type": "code",
   "execution_count": null,
   "metadata": {
    "collapsed": false,
    "deletable": true,
    "editable": true
   },
   "outputs": [],
   "source": [
    "%%bash\n",
    "cd ~/PreMAP2019/lessons/UnixIntro\n",
    "mkdir bio"
   ]
  },
  {
   "cell_type": "markdown",
   "metadata": {
    "deletable": true,
    "editable": true
   },
   "source": [
    "The **```mkdir```** command stands for \"make directory\" so with this we have created a new directory that I named bio. If you move into this directory and try to see what is in it you will see that it is empty. Go ahead and do that now. The next thing we'll want to do is create a file in this new directory. Let's make this a draft file. To create a file we will use the **```touch```** command followed by the name of the file we want to create. (More on creating files with text editors later on). "
   ]
  },
  {
   "cell_type": "code",
   "execution_count": null,
   "metadata": {
    "collapsed": false,
    "deletable": true,
    "editable": true
   },
   "outputs": [],
   "source": [
    "%%bash \n",
    "cd bio\n",
    "touch draft.txt\n",
    "ls"
   ]
  },
  {
   "cell_type": "markdown",
   "metadata": {
    "deletable": true,
    "editable": true
   },
   "source": [
    "So we can see that we have created a \"draft.txt\" file in our bio directory, but this file is empty. Let's say we want to make a copy of a this file and move in to another directory. To make copies of files we use the **```cp```** command. To move files we will use **```mv```** command. NOTE: I am only doing the **```cd bio```** command again because this notebook automatically reverts me back to the \"/astro/users/premaptap/Lectures/UnixIntro\" directory when I start a new cell. In the terminal you would NOT need to do this. "
   ]
  },
  {
   "cell_type": "code",
   "execution_count": null,
   "metadata": {
    "collapsed": false,
    "deletable": true,
    "editable": true
   },
   "outputs": [],
   "source": [
    "%%bash\n",
    "cd bio\n",
    "cp draft.txt draftcopy.txt\n",
    "ls\n",
    "mv draftcopy.txt ..\n",
    "ls"
   ]
  },
  {
   "cell_type": "markdown",
   "metadata": {
    "deletable": true,
    "editable": true
   },
   "source": [
    "So let's see what we have done with this series of commands. We have copied \"draft.txt\" into a new file called \"draftcopy.txt.\" By using the **```ls```** command I can see that both these files exist in the directory. Next I use the **```mv```** command followed by the destination (recall from earlier) to move this copy file to one directory up. Now if I do **```ls```** again I see that ONLY \"draft.txt\" remains in this directory. Now let's say that I only want \"draftcopy.txt\" and so I decided to remove the whole bio directory. The command to remove something is **```rm```** (Note: be careful since removing is PERMANENT). Does this command work? Why or why not? "
   ]
  },
  {
   "cell_type": "markdown",
   "metadata": {
    "deletable": true,
    "editable": true
   },
   "source": [
    "You should find that it does not work since the directory is not empty. There are several things you could do here. You could go into the \"bio\" directory and remove the file using **```rm draft.txt```** and then subsequently delete the empty directory, or you could use one of the following commands:"
   ]
  },
  {
   "cell_type": "code",
   "execution_count": null,
   "metadata": {
    "collapsed": false,
    "deletable": true,
    "editable": true
   },
   "outputs": [],
   "source": [
    "%%bash\n",
    "cd ..\n",
    "rm -r bio\n",
    "rmdir bio"
   ]
  },
  {
   "cell_type": "markdown",
   "metadata": {
    "deletable": true,
    "editable": true
   },
   "source": [
    "The first command tells it to delete everything in the directory and then delete the directory itself (\"r\" stands for \"recursive\"), while the second command is the equivalent of **```rm```** for a directory (in that it will delete the whole directory). Again, be VERY careful when doing this. Deleting is permanent. "
   ]
  },
  {
   "cell_type": "markdown",
   "metadata": {
    "deletable": true,
    "editable": true
   },
   "source": [
    "The next thing to look at is how we can combine existing programs (commands) to do powerful things from the command line. Let's imagine that I have a very crowded directory with lots of different files, how will I find just the files of a certain type? We can use something called the wildcard to accomplish this. For example, let's say I only want to look at \".txt\" files. Here's how we might accomplish that: "
   ]
  },
  {
   "cell_type": "code",
   "execution_count": null,
   "metadata": {
    "collapsed": false,
    "deletable": true,
    "editable": true
   },
   "outputs": [],
   "source": [
    "%%bash\n",
    "ls *.txt"
   ]
  },
  {
   "cell_type": "markdown",
   "metadata": {
    "deletable": true,
    "editable": true
   },
   "source": [
    "This \"wildcard\" symbol matches one or more characters. The \"?\" wildcard matches a single character. You can use these in combination with one another to get at more specific file names. For example, what would **```ls b*.txt```** output versus **```ls ?a*```** versus **```ls ba?.txt```** Try these out to see what you get! Note that the wildcard can be used with any other shell command, for example **```rm  *```**. DON'T DO THIS. It's a bad idea to delete everything."
   ]
  },
  {
   "cell_type": "markdown",
   "metadata": {
    "deletable": true,
    "editable": true
   },
   "source": [
    "Let's say I want to write some of my output from the shell to a file. Let's use the ```wc``` command to count the number of lines,words, and characters in each file and then redirect that to a new file called \"wordcount.txt.\""
   ]
  },
  {
   "cell_type": "code",
   "execution_count": null,
   "metadata": {
    "collapsed": true,
    "deletable": true,
    "editable": true
   },
   "outputs": [],
   "source": [
    "%%bash\n",
    "wc *.txt > wordcount.txt"
   ]
  },
  {
   "cell_type": "markdown",
   "metadata": {
    "deletable": true,
    "editable": true
   },
   "source": [
    "The greater than symbol tells the computer to redirect the shell output to a file instead of printing it to a screen. If we want to see what is in this new file \"wordcount.txt,\" we can use the ```cat``` command, which stands for \"concatenate\" and instructs the computer to print the contents of the file."
   ]
  },
  {
   "cell_type": "code",
   "execution_count": null,
   "metadata": {
    "collapsed": false,
    "deletable": true,
    "editable": true
   },
   "outputs": [],
   "source": [
    "%%bash \n",
    "cat wordcount.txt"
   ]
  },
  {
   "cell_type": "markdown",
   "metadata": {
    "deletable": true,
    "editable": true
   },
   "source": [
    "If we want to view part of a file without printing the entire thing, you can use the ```more``` command. It will print out as much of the file as you can see in your terminal window. If the file is large, it will show you what percent you're viewing. If the file is short (like this one) you will see the whole file."
   ]
  },
  {
   "cell_type": "code",
   "execution_count": null,
   "metadata": {
    "collapsed": false,
    "deletable": true,
    "editable": true
   },
   "outputs": [],
   "source": [
    "%%bash \n",
    "more wordcount.txt"
   ]
  },
  {
   "cell_type": "markdown",
   "metadata": {
    "deletable": true,
    "editable": true
   },
   "source": [
    "Imagine that I had to do this for a REALLY large file. Would I want all the output printed directly to my screen? Probably not. Imagine I only care about that summary line at the end. In order to get at just the first or last few lines of a file we can use the **```head```** or **```tail```** commands as follows:"
   ]
  },
  {
   "cell_type": "code",
   "execution_count": null,
   "metadata": {
    "collapsed": false,
    "deletable": true,
    "editable": true
   },
   "outputs": [],
   "source": [
    "%%bash\n",
    "head -1 wordcount.txt\n",
    "tail -1 wordcount.txt"
   ]
  },
  {
   "cell_type": "markdown",
   "metadata": {
    "deletable": true,
    "editable": true
   },
   "source": [
    "The \"-1\" means either first line, or last line, respectively. We could change these numbers to get the first three lines, or last three lines, for example. Let's look at how we could search for instances of specific words in lines in files: "
   ]
  },
  {
   "cell_type": "code",
   "execution_count": null,
   "metadata": {
    "collapsed": false,
    "deletable": true,
    "editable": true
   },
   "outputs": [],
   "source": [
    "%%bash\n",
    "cat *.txt | grep -n \"file\""
   ]
  },
  {
   "cell_type": "markdown",
   "metadata": {
    "deletable": true,
    "editable": true
   },
   "source": [
    "The vertical bar is referred to as a \"pipe\". It tells the shell to take the output of the command on the left as the input to the command on the right. **```grep```** is a command that finds lines in files that match a particular pattern. It is a contraction of \"global/regular expression/print.\" The \"-n\" flag means to print the line number where the expression we are searching for occurs. There are many other flag options to go along with **```grep,```** which you can find by doing **```man grep```** (which stands for manual). There are also lots of other ways to search for specific \"regular expressions\" using **```grep```**. As one example, let's look at what the following does: "
   ]
  },
  {
   "cell_type": "code",
   "execution_count": null,
   "metadata": {
    "collapsed": false,
    "deletable": true,
    "editable": true
   },
   "outputs": [],
   "source": [
    "%%bash\n",
    "cat *.txt | grep '^Here'"
   ]
  },
  {
   "cell_type": "markdown",
   "metadata": {
    "deletable": true,
    "editable": true
   },
   "source": [
    "When we add in the carrot this prints out the file contents of only those files that have lines beginning with \"Here.\""
   ]
  },
  {
   "cell_type": "markdown",
   "metadata": {
    "deletable": true,
    "editable": true
   },
   "source": [
    "We can also use the **```sort```** command on files. Here I will show an example of doing an alphabetical sort, but note that it is possible to do a numerical sort as well (you will try this later for yourselves). What if I tried this with **```sort -k 2 alpha.dat```** instead?"
   ]
  },
  {
   "cell_type": "code",
   "execution_count": null,
   "metadata": {
    "collapsed": false,
    "deletable": true,
    "editable": true,
    "scrolled": true
   },
   "outputs": [],
   "source": [
    "%%bash\n",
    "sort -k 1 alpha.dat"
   ]
  },
  {
   "cell_type": "markdown",
   "metadata": {
    "deletable": true,
    "editable": true
   },
   "source": [
    "## Opening a Jupyter notebook\n",
    "\n",
    "This will work whether you are on an astrolab machine or remotely logged in from your personal computer (see instructions below).<br>\n",
    "1. In your terminal type the following command:<br>\n",
    "```bash\n",
    "notebook\n",
    "``` \n",
    "(Note, I have created a shortcut for you that allows this to work. On an astrolab machine, you can type ```jupyter notebook```,  but that won't work when you are logged in remotely.)<br>\n",
    "2. You will see a lot of output but some of it should look like this:<br>\n",
    "```bash\n",
    "[I 09:48:21.554 NotebookApp] [nb_conda_kernels] enabled, 5 kernels found\n",
    "[I 09:48:21.560 NotebookApp] Writing notebook server cookie secret to /run/user/703148/jupyter/notebook_cookie_secret\n",
    "[I 09:48:26.941 NotebookApp] [nb_anacondacloud] enabled\n",
    "[I 09:48:26.985 NotebookApp] [nb_conda] enabled\n",
    "[I 09:48:28.316 NotebookApp] ✓ nbpresent HTML export ENABLED\n",
    "[W 09:48:28.316 NotebookApp] ✗ nbpresent PDF export DISABLED: No module named 'nbbrowserpdf'\n",
    "[I 09:48:28.328 NotebookApp] Serving notebooks from local directory: /astro/users/mlazz\n",
    "[I 09:48:28.328 NotebookApp] 0 active kernels \n",
    "[I 09:48:28.329 NotebookApp] The Jupyter Notebook is running at: https://[all ip addresses on your system]:8888/```\n",
    "3. The line you care about is the one that starts with ```The JupyterNotebook is running at:...```\n",
    "4. Where it says ```all ip addresses on your system``` means the ipaddress of the astrolab machine you're either working on or logged into. That address is ```astrolabXX.astro.washington.edu``` where you fill in ```XX``` with the two digit number of the machine you're working on.\n",
    "5. Open a web browser and type in the following address to open Jupyter Notebook: https://astrolabXX.astro.washington.edu:8888/ (make sure that the final number, 8888 in this case, matches the one output on your terminal).\n",
    "6. When doing this for the first time, you will be prompted to make a password for security purposes. PLEASE WRITE THIS PASSWORD DOWN as you will not be able to reset it. You may be asked to enter it when you open the notebook in future sessions (it kind of depends on how well the system \"remembers\" you).\n",
    "7. You will see a screen that will allow you to click through your computer's file structure. Any file that ends with the extension \".ipynb\" is a Jupyter Notebook file, which means you can open it and code directly in it.\n",
    "8. Note, when you open a notebook, it may ask you to select a kernal. Make sure to choose Python 3 if you are given an option. If you don't see this pop up, don't worry!\n",
    "9. If you want to make a new notebook file (which you will do for the coding assignments), from the Jupyter notebook home screen, click the button towards the top right that says \"New\" and select \"Python 3\"."
   ]
  },
  {
   "cell_type": "markdown",
   "metadata": {
    "deletable": true,
    "editable": true
   },
   "source": [
    "## Logging onto machines from home"
   ]
  },
  {
   "cell_type": "markdown",
   "metadata": {
    "deletable": true,
    "editable": true
   },
   "source": [
    "There are even more Unix commands (not covered here) that are listed on the Unix Cheat Sheet that you have. This includes things like how to download a file from the internet (given a web address of the file), how to create a tarball, how to copy things between machines, etc. Now that we've gone over these basic commands today I'll show you one last thing, which is how to remotely log into your machines. This command is also covered on the Unix Cheat Sheet, but requires a little set-up."
   ]
  },
  {
   "cell_type": "markdown",
   "metadata": {
    "deletable": true,
    "editable": true
   },
   "source": [
    "Download HuskyOnNet (aka BIG-IP Edge Client or f5): https://itconnect.uw.edu/connect/uw-networks/about-husky-onnet/ for your operating sysetm. This makes logging in remotely easier because it makes your computer think that you are on the UW campus, which makes it easier to get through the UW network security."
   ]
  },
  {
   "cell_type": "markdown",
   "metadata": {
    "deletable": true,
    "editable": true
   },
   "source": [
    "Once you have HuskyOnNet installed, open it up and log in using your UW net ID and password."
   ]
  },
  {
   "cell_type": "markdown",
   "metadata": {
    "deletable": true,
    "editable": true
   },
   "source": [
    "## Mac Users"
   ]
  },
  {
   "cell_type": "markdown",
   "metadata": {
    "deletable": true,
    "editable": true
   },
   "source": [
    "Once you have HuskyOnNet running, you can just use the command \"ssh\" to log in to one of the astro lab computers. Try to remember the astro lab computer number you are using in class, or you can just choose a random one. To log into any of the astrolab machines using your UW NET ID, you would type the following (filling in your net ID and the astrolab computer number, of course):"
   ]
  },
  {
   "cell_type": "markdown",
   "metadata": {
    "deletable": true,
    "editable": true
   },
   "source": [
    "```bash\n",
    "ssh -XY netID@astrolabXX.astro.washington.edu\n",
    "```"
   ]
  },
  {
   "cell_type": "markdown",
   "metadata": {
    "deletable": true,
    "editable": true
   },
   "source": [
    "You might see some information output and you might be asked if you want to continue (type \"y\" for yes). Then you will be prompted to enter your password. This is your UW net ID password."
   ]
  },
  {
   "cell_type": "markdown",
   "metadata": {
    "deletable": true,
    "editable": true
   },
   "source": [
    "This should get you in to your home directory on your astrolab machine. Note: it doesn't matter which astro lab machine you log into. Your \"home\" directory is just linked to your UW net ID and password, not the individual machine itself."
   ]
  },
  {
   "cell_type": "markdown",
   "metadata": {
    "deletable": true,
    "editable": true
   },
   "source": [
    "To open up a notebook with one of our lessons, simply follow the directions in the section above to open up a Jupyter notebook."
   ]
  },
  {
   "cell_type": "markdown",
   "metadata": {
    "deletable": true,
    "editable": true
   },
   "source": [
    "To exit a session:\n",
    "1. Save your notebooks using the floppy disk icon or file->save\n",
    "2. Go back to the terminal window where you opened up the notebook originally by typing \"notebook\". Type control-C and then y to close the jupyter notebook session.\n",
    "3. Log out of your remote login by typing ``exit`` into the same terminal window.\n",
    "4. To log back in again, make sure you have HuskyOnNet running, open a terminal and all you have to do is type ``ssh -XY netID@astrolabXX.astro.washington.edu`` again and it will prompt you to enter your password. Then you can start a Jupyter Notebook session again by typing ``notebook`` into the terminal window."
   ]
  },
  {
   "cell_type": "markdown",
   "metadata": {
    "deletable": true,
    "editable": true
   },
   "source": [
    "## For Windows Users"
   ]
  },
  {
   "cell_type": "markdown",
   "metadata": {
    "deletable": true,
    "editable": true
   },
   "source": [
    "First, download [putty](http://www.chiark.greenend.org.uk/~sgtatham/putty/download.html)--use putty.exe--and then download [Xming](http://sourceforge.net/projects/xming/). For convenience drag both of these to make icons on your desktop so that you don't have to go searching for them later. Make sure both have installed properly. Make sure Xming is open (just double click, nothing will show up on the screen) **before** opening putty. Once this is done, you can open up putty. It should look like this:"
   ]
  },
  {
   "cell_type": "markdown",
   "metadata": {
    "deletable": true,
    "editable": true
   },
   "source": [
    "<img src=\"images/putty-portable-01-577x535.png\">"
   ]
  },
  {
   "cell_type": "markdown",
   "metadata": {
    "deletable": true,
    "editable": true
   },
   "source": [
    "Where it says \"Host Name (or IP address) type ``gateway.phys.washington.edu``. On the left hand side click the \"+\" next to \"SSH.\" More options should come up. Next click on **X11** and on the new screen check the box that says \"enable X11 forwarding.\" Now go back to the first screen (click \"Session\" on the left hand side). Under \"Saved Sessions\" type something like \"astrolab\" and hit \"Save.\" This saves the settings you just input under the name astrolab. Next click \"Open.\" An Xming terminal should pop up and prompt you for your username. Enter your uwnetid and your password. If this works, you have tunneled through gateway! Only one more step. In the terminal type the following: "
   ]
  },
  {
   "cell_type": "markdown",
   "metadata": {
    "deletable": true,
    "editable": true
   },
   "source": [
    "```bash\n",
    "ssh -l UWNETID astrolabXX.astro.washington.edu\n",
    "```"
   ]
  },
  {
   "cell_type": "markdown",
   "metadata": {
    "deletable": true,
    "editable": true
   },
   "source": [
    "And once again enter your password when prompted. Note that the \"-l\" is a lowercase L (not a 1), and that you should put in your username and preferred astrolab computer where it says UWNETID and XX. Now you should be logged into your astrolab computer! Try doing an ``pwd`` to make sure you are in your home directory on the astrolab machine, or do an ``ls`` to see what is there. You will need to enter ``exit`` once to log out of your astrolab machine, and then ``exit`` once more to log out of gateway. Once you've done this your Xming terminal window should disappear."
   ]
  },
  {
   "cell_type": "markdown",
   "metadata": {
    "deletable": true,
    "editable": true
   },
   "source": [
    "The next time you want to do a remote login just make sure that Xming is open first and then open putty. Then you should be able to click on \"astrolab\" in your \"Saved Sessions\" and just hit \"Open.\" An Xming terminal will again open and prompt you for your uwnetid and password. Then you type the ``ssh -l UWNETID astrolabXX.astro.washington.edu`` command above and you will be logged in again! "
   ]
  },
  {
   "cell_type": "markdown",
   "metadata": {
    "deletable": true,
    "editable": true
   },
   "source": [
    "Next time we will cover a brief bit of astro background, talk about using text editors (to more easily create and edit files), and then get started on our first Unix assignment! "
   ]
  }
 ],
 "metadata": {
  "kernelspec": {
   "display_name": "Python [conda env:py36]",
   "language": "python",
   "name": "conda-env-py36-py"
  },
  "language_info": {
   "codemirror_mode": {
    "name": "ipython",
    "version": 3
   },
   "file_extension": ".py",
   "mimetype": "text/x-python",
   "name": "python",
   "nbconvert_exporter": "python",
   "pygments_lexer": "ipython3",
   "version": "3.6.2"
  }
 },
 "nbformat": 4,
 "nbformat_minor": 1
}
