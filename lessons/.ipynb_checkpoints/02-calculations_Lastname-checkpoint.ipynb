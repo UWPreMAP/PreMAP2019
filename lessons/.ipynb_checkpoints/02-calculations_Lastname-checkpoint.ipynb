{
 "cells": [
  {
   "cell_type": "markdown",
   "metadata": {
    "deletable": true,
    "editable": true
   },
   "source": [
    "[Pre-MAP Course Website](http://depts.washington.edu/premap/seminar/cohort-14-2018-seminar/) | [Pre-MAP GitHub](https://github.com/UWPreMAP/PreMAP2018) | [Google](https://www.google.com)\n",
    "\n",
    "# Python as a calculator\n",
    "\n",
    "Math in Python works like most scientific calcators, but Python can do a lot more than your calculator. In this lesson, we'll do some math. \n",
    "\n",
    "### Example 1: Math in a cell\n",
    "\n",
    "You can type some basic math in a cell, execute the cell (`Ctrl + Enter`), and math will be returned below the cell. This works whether or not you put the math in a `print` command. Try `2+2` in the cell below:"
   ]
  },
  {
   "cell_type": "code",
   "execution_count": 1,
   "metadata": {
    "collapsed": false,
    "deletable": true,
    "editable": true
   },
   "outputs": [
    {
     "data": {
      "text/plain": [
       "7"
      ]
     },
     "execution_count": 1,
     "metadata": {},
     "output_type": "execute_result"
    }
   ],
   "source": [
    "5+2"
   ]
  },
  {
   "cell_type": "markdown",
   "metadata": {
    "deletable": true,
    "editable": true
   },
   "source": [
    "The symbol for multiplication is `*`. Do `2 * 2` below: "
   ]
  },
  {
   "cell_type": "code",
   "execution_count": 2,
   "metadata": {
    "collapsed": false,
    "deletable": true,
    "editable": true
   },
   "outputs": [
    {
     "data": {
      "text/plain": [
       "4"
      ]
     },
     "execution_count": 2,
     "metadata": {},
     "output_type": "execute_result"
    }
   ],
   "source": [
    "2*2"
   ]
  },
  {
   "cell_type": "markdown",
   "metadata": {
    "deletable": true,
    "editable": true
   },
   "source": [
    "The numbers we've used so far are all integers, or `int`'s. Python can store numbers as `int`s or `float`s. A float is a decimal number. You can check what _type_ a number is by using the `type` function: \n",
    "\n",
    "```python\n",
    "type(5)\n",
    "```\n",
    "\n",
    "### Example 2: Types\n",
    "\n",
    "Print the types of the following things: \n",
    "* `1`\n",
    "* `1.0`\n",
    "* `\"hello, world\"`"
   ]
  },
  {
   "cell_type": "code",
   "execution_count": 7,
   "metadata": {
    "collapsed": false,
    "deletable": true,
    "editable": true
   },
   "outputs": [
    {
     "name": "stdout",
     "output_type": "stream",
     "text": [
      "200000.0\n"
     ]
    }
   ],
   "source": [
    "print(2e5)"
   ]
  },
  {
   "cell_type": "markdown",
   "metadata": {
    "deletable": true,
    "editable": true
   },
   "source": [
    "If you want to represent a large number with scientific notation, you can do that with a small `e`, like this: \n",
    "```python\n",
    "two_times_ten_to_the_fifth = 2e5\n",
    "```\n",
    "where the above is $2 \\times 10^5$."
   ]
  },
  {
   "cell_type": "markdown",
   "metadata": {
    "deletable": true,
    "editable": true
   },
   "source": [
    "*** \n",
    "\n",
    "Types can fool you sometimes when you're dividing two numbers. If you divide with one division sign (`/`) you will get a `float` result, which is the way Python represents decimals. If you divide with two division signs (`//`) you will always get an integer result. \n",
    "\n",
    "### Example 2: Integer vs. float division\n",
    "\n",
    "Try dividing three by five using `/`, and then with `//`. What's the difference? What is the `type` of each result? "
   ]
  },
  {
   "cell_type": "code",
   "execution_count": 11,
   "metadata": {
    "collapsed": false,
    "deletable": true,
    "editable": true
   },
   "outputs": [
    {
     "data": {
      "text/plain": [
       "0"
      ]
     },
     "execution_count": 11,
     "metadata": {},
     "output_type": "execute_result"
    }
   ],
   "source": [
    "3//5"
   ]
  },
  {
   "cell_type": "markdown",
   "metadata": {
    "collapsed": true,
    "deletable": true,
    "editable": true
   },
   "source": [
    "Exponentiation uses two asterisks `**` (_not_ the caret symbol `^`), like this: \n",
    "\n",
    "```python\n",
    "print(2**2)\n",
    "```\n",
    "\n",
    "### Inplace addition\n",
    "If you already have a variable, you can add, subtract, multiply, divide onto that existing variable in two ways. One is like this: \n",
    "```python\n",
    "class_number = 192\n",
    "\n",
    "class_number = class_number + 1\n",
    "```\n",
    "or\n",
    "```python\n",
    "class_number = 192\n",
    "\n",
    "class_number += 1\n",
    "```\n",
    "\n",
    "### Example 3: How many ancestors do you have?\n",
    "\n",
    "The number of great-great-great... grandparents you have goes as $2^n$ where $n$ is the number of generations back you go. For example, one generation ago $n=1$, you had $2^1 = 2$ ancestors - or two parents. Two generations ago, you had $2^2 = 4$ ancestors - or four grandparents. \n",
    "\n",
    "Use Python to answer: how many ancestors did you have thirty generations ago?"
   ]
  },
  {
   "cell_type": "code",
   "execution_count": 12,
   "metadata": {
    "collapsed": false,
    "deletable": true,
    "editable": true
   },
   "outputs": [
    {
     "data": {
      "text/plain": [
       "1073741824"
      ]
     },
     "execution_count": 12,
     "metadata": {},
     "output_type": "execute_result"
    }
   ],
   "source": [
    "2**30"
   ]
  },
  {
   "cell_type": "markdown",
   "metadata": {
    "deletable": true,
    "editable": true
   },
   "source": [
    "If that number sounds way larger than the number of people that were probably on Earth thirty generations ago, that's because it _is_. How is that possible? You can [read up more about this after class by following this link](https://www.google.com/search?q=pedigree+collapse+royalty&oq=pedigree+collapse+royalty&aqs=chrome.0.69i59.4003j0j4&sourceid=chrome&ie=UTF-8).\n",
    "\n",
    "*** \n",
    "\n",
    "You can also use Python to compute inequalities. The _operators_ used in inequalities are: \n",
    "\n",
    "| Inequality               | Symbol| \n",
    "|--------------------------|-------|\n",
    "| Equal to                 | `==`  |\n",
    "| Not equal to             | `!=`  |\n",
    "| Greater than             | `>`   |\n",
    "| Greater than or equal to | `>=`  | \n",
    "| Less than                | `<`   | \n",
    "| Less than or equal to    | `<=`  |\n",
    "\n",
    "**Note**: you can check if something is equal to something else with the double equals `==`. You can't use single equals, because that's how you define a variable. So this sets the variable `x` to the value `5`: \n",
    "```python\n",
    "x = 5\n",
    "```\n",
    "while this asks if `x` is equal to 5: \n",
    "```python\n",
    "x == 5\n",
    "```\n",
    "\n",
    "### Example 4: Inequalities, booleans\n",
    "\n",
    "What is returned when you evaluate an inequality like `3 >= 5`? What is the type of this object?"
   ]
  },
  {
   "cell_type": "code",
   "execution_count": 14,
   "metadata": {
    "collapsed": false,
    "deletable": true,
    "editable": true
   },
   "outputs": [
    {
     "data": {
      "text/plain": [
       "True"
      ]
     },
     "execution_count": 14,
     "metadata": {},
     "output_type": "execute_result"
    }
   ],
   "source": [
    "3 <= 5"
   ]
  },
  {
   "cell_type": "markdown",
   "metadata": {
    "deletable": true,
    "editable": true
   },
   "source": [
    "### Example 5: Other operators\n",
    "\n",
    "Another operator that's useful is the _modulus_ operator, represented with the symbol `%`. The modulus of two numbers is the remainder after dividing the first number by the second. So for example, `4 % 2` is zero, because four divided by two is 2 with no remainder. But `9 % 4` is one, because nine goes into four two times with one leftover. \n",
    "\n",
    "This gets used sometimes to search for multiples, since if `x` is a multiple of three, then $x \\,\\% \\,3 = 0$. \n",
    "\n",
    "In the cell below, determine whether or not 12417 is an even multiple of three:"
   ]
  },
  {
   "cell_type": "code",
   "execution_count": 15,
   "metadata": {
    "collapsed": false,
    "deletable": true,
    "editable": true
   },
   "outputs": [
    {
     "data": {
      "text/plain": [
       "0"
      ]
     },
     "execution_count": 15,
     "metadata": {},
     "output_type": "execute_result"
    }
   ],
   "source": [
    "12417 % 3"
   ]
  },
  {
   "cell_type": "markdown",
   "metadata": {
    "deletable": true,
    "editable": true
   },
   "source": [
    "*** \n",
    "\n",
    "## Comments \n",
    "\n",
    "So far we've been writing only a few lines of code at a time in each cell, but soon you'll be writing lots of lines. The more code you write, the harder it can be to remember what each step was. That's why we write lots of _comments_ in our code. \n",
    "\n",
    "A comment is a note you wrote in code, which Python doesn't do anything with. It's just text for human readers. You designate a comment with a `#` symbol - anything after the `#` gets ignored by Python. For example: \n",
    "\n",
    "```python\n",
    "# Here, I'm going to calculate the force on a 10kg block: \n",
    "mass = 10  # kilograms\n",
    "acceleration = 5  # meters per sec^2\n",
    "force = mass * acceleration  # I <3 Newton\n",
    "print(force)\n",
    "```\n",
    "\n",
    "### Example 5: Comments welcome\n",
    "\n",
    "If the price of the computer you're working on was $1000 and the sales tax in Seattle is 9.6%, how much did it cost after tax? \n",
    "\n",
    "Do this calculation by creating variables for the tax rate, the price of the computer before tax, and the final price, and leave comments throughout explaining the units and the calculation that you're doing. See the example above for hints."
   ]
  },
  {
   "cell_type": "code",
   "execution_count": 18,
   "metadata": {
    "collapsed": false,
    "deletable": true,
    "editable": true
   },
   "outputs": [
    {
     "name": "stdout",
     "output_type": "stream",
     "text": [
      "1096.0\n"
     ]
    }
   ],
   "source": [
    "price = 1000 #dollars\n",
    "tax = 0.096 #sales tax in Seattle\n",
    "cost = price + price*tax\n",
    "print(cost)"
   ]
  },
  {
   "cell_type": "code",
   "execution_count": 16,
   "metadata": {
    "collapsed": false,
    "deletable": true,
    "editable": true
   },
   "outputs": [
    {
     "name": "stdout",
     "output_type": "stream",
     "text": [
      "50\n"
     ]
    }
   ],
   "source": [
    "mass = 10 #This is the mass in kilograms\n",
    "acceleration = 5 #m/s**2\n",
    "force = mass * acceleration\n",
    "print(force)"
   ]
  },
  {
   "cell_type": "markdown",
   "metadata": {
    "deletable": true,
    "editable": true
   },
   "source": [
    "*** \n",
    "\n",
    "In Python, you have to be careful about putting spaces or tabs in front of a line. We call spaces and/or tabs collectively _whitespace_. \n",
    "\n",
    "You can put as many spaces as you want in a line (though one at a time is the right number to use most of the time), like this:\n",
    "```python\n",
    "this_is_ok = 2 + 2\n",
    "this_is_bad_but_it_works = 2   +  2+2\n",
    "```\n",
    "\n",
    "However you can't put stray spaces in the beginning of a line. For example, if you do this: \n",
    "\n",
    "```python\n",
    "starts_no_indent = 0\n",
    "  starts_with_an_indent = 5\n",
    "```\n",
    "...an error will be raised.\n",
    "\n",
    "### Example 6: Significant whitespace\n",
    "\n",
    "Try the above example or one like it, and note the type of error that it raises:"
   ]
  },
  {
   "cell_type": "code",
   "execution_count": 19,
   "metadata": {
    "collapsed": false,
    "deletable": true,
    "editable": true
   },
   "outputs": [
    {
     "ename": "IndentationError",
     "evalue": "unexpected indent (<ipython-input-19-920ee328c1c1>, line 2)",
     "output_type": "error",
     "traceback": [
      "\u001b[0;36m  File \u001b[0;32m\"<ipython-input-19-920ee328c1c1>\"\u001b[0;36m, line \u001b[0;32m2\u001b[0m\n\u001b[0;31m    starts_with_an_indent = 5\u001b[0m\n\u001b[0m    ^\u001b[0m\n\u001b[0;31mIndentationError\u001b[0m\u001b[0;31m:\u001b[0m unexpected indent\n"
     ]
    }
   ],
   "source": [
    "starts_no_indent = 0\n",
    "  starts_with_an_indent = 5"
   ]
  },
  {
   "cell_type": "markdown",
   "metadata": {
    "deletable": true,
    "editable": true
   },
   "source": [
    "It will become clear later why this isn't allowed - indentation is used to represent specific things."
   ]
  },
  {
   "cell_type": "markdown",
   "metadata": {
    "deletable": true,
    "editable": true
   },
   "source": [
    "*** \n",
    "\n",
    "## Style\n",
    " \n",
    "When you start your research project, you'll write code that you'll use for the rest of the quarter. If you can't read your own code, then you'll have difficulty understanding what you did at the end of the quarter. Readability is really important for making your work understandable and reproducible. Just like you wouldn't turn in your scratch paper version of your math homework, you shouldn't allow yourself to write illegible code.\n",
    "\n",
    "\n",
    "As scientists, we share our work with one another and review each other's answers. **Ask your neighbor to look at your solution to Example 5**. Ask your neighbor: \n",
    "\n",
    "* Can you figure out what I was trying to accomplish with my code?\n",
    "* Do my variable names make sense to you?\n",
    "* Did I use appropriate whitespace to make the code easy to read?\n",
    "* Did I write enough comments to guide you through what I was doing? \n",
    "\n",
    "Here are some tips on naming variables to remember: \n",
    "* Variable names should use lowercase letters and numbers\n",
    "* If there's more than one word in your variable name, separate the words with underscores\n",
    "* Longer names are better than shorter names! No one ever got mad that someone else's code was _too_ readable \n",
    "\n",
    "There are lots more tips about how to write Python code \"correctly\" in the [style guide, often called \"PEP8\"](https://www.python.org/dev/peps/pep-0008/), which I'll leave a link to here for future reference. \n",
    "\n",
    "### Example 7: Variable names\n",
    "\n",
    "Can you improve your variarble names and style in Example 5? If so, get to it!\n",
    "\n",
    "*** \n",
    "\n",
    "## Lists\n",
    "\n",
    "You can now use Python as a calculator, but it's more useful than a handheld calculator only when you have lots of numbers to work with. You can store a group of numbers, or groups of other things, in a type called a `list`. \n",
    "\n",
    "A list is a collection of things (they can have any type, including `int`s, `float`s, `str`s. They are separated by commas and bracketed with square brackets (`[` and `]`), like this: \n",
    "```python\n",
    "shopping_list = ['apple', 'banana', 'cherry']\n",
    "```\n",
    "Ask a few neighbors around you for their height in inches, create a list of their heights, and print the list: "
   ]
  },
  {
   "cell_type": "code",
   "execution_count": 3,
   "metadata": {
    "collapsed": false,
    "deletable": true,
    "editable": true
   },
   "outputs": [
    {
     "name": "stdout",
     "output_type": "stream",
     "text": [
      "[65, 66, 67, 70, 72, 64.8, 68, 65, 70, 62, 64]\n"
     ]
    }
   ],
   "source": [
    "heights = [65, 66, 67, 70, 72, 64.8, 68, 65, 70, 62, 64]\n",
    "print(heights)"
   ]
  },
  {
   "cell_type": "markdown",
   "metadata": {
    "deletable": true,
    "editable": true
   },
   "source": [
    "Many times you'll want to check how many elements are in your list, which you do with the `len` function, like this: \n",
    "```python\n",
    "len(heights)\n",
    "```\n",
    "Try that in the cell below: "
   ]
  },
  {
   "cell_type": "code",
   "execution_count": 4,
   "metadata": {
    "collapsed": false,
    "deletable": true,
    "editable": true
   },
   "outputs": [
    {
     "data": {
      "text/plain": [
       "11"
      ]
     },
     "execution_count": 4,
     "metadata": {},
     "output_type": "execute_result"
    }
   ],
   "source": [
    "len(heights)"
   ]
  },
  {
   "cell_type": "markdown",
   "metadata": {
    "deletable": true,
    "editable": true
   },
   "source": [
    "Python has a _function_ for taking the `sum` of the numbers in a list. Let's take the sum of the ages with the following command: \n",
    "```python\n",
    "sum(heights)\n",
    "```\n",
    "### Example 8: Sum of a list\n",
    "\n",
    "How many inches tall would our class be if we all stood one on top of each other (take the sum of the heights)? Store the answer in a variable with a sensible name (remember guidelines from above!), and print the result: "
   ]
  },
  {
   "cell_type": "code",
   "execution_count": 5,
   "metadata": {
    "collapsed": false,
    "deletable": true,
    "editable": true
   },
   "outputs": [
    {
     "data": {
      "text/plain": [
       "733.8"
      ]
     },
     "execution_count": 5,
     "metadata": {},
     "output_type": "execute_result"
    }
   ],
   "source": [
    "sum(heights)"
   ]
  },
  {
   "cell_type": "markdown",
   "metadata": {
    "deletable": true,
    "editable": true
   },
   "source": [
    "### List indexing and slicing\n",
    "\n",
    "Often you'll want to be able to take a single _element_, or a few elements out of a list. To do that, you do what we call _indexing_ or _slicing_. \n",
    "\n",
    "To get a specific element from of the list `ages`, we put square brackets next to the name of the list, and we put the _index_ of the element that we want inside the brackets. The index starts at **zero for the first element**, one for the second element, etc.: \n",
    "```python\n",
    "first_element = heights[0]\n",
    "print(first_element)\n",
    "```\n",
    "\n",
    "### Example 9: Zero-based indexing\n",
    "\n",
    "Get the second element out of the list `heights`. Double check that you got the right element. "
   ]
  },
  {
   "cell_type": "code",
   "execution_count": 7,
   "metadata": {
    "collapsed": false,
    "deletable": true,
    "editable": true
   },
   "outputs": [
    {
     "data": {
      "text/plain": [
       "66"
      ]
     },
     "execution_count": 7,
     "metadata": {},
     "output_type": "execute_result"
    }
   ],
   "source": [
    "heights[1]"
   ]
  },
  {
   "cell_type": "markdown",
   "metadata": {
    "deletable": true,
    "editable": true
   },
   "source": [
    "***\n",
    "\n",
    "If you want to get out multiple elements at a time, you can use two indices which designate the start and **stop+1** indices, separated by a `:` symbol. For example, let's get the fourth through seventh letters in this list:\n",
    "```python\n",
    "# Index =   0    1    2    3    4    5    6    7    8    9 \n",
    "astr192 = ['P', 'r', 'e', 'M', 'A', 'P', '2', '0', '1', '8']\n",
    "print(astr192[3:8])\n",
    "```\n",
    "which prints `['M', 'A', 'P', '2', '0']`. The fourth element is at index 3, so that's the first number in the slice. The second number in the slice is the stop position **plus one**. \n",
    "\n",
    "### Example 10: List slicing\n",
    "\n",
    "1. Type your full name in a string, store it in the variable `full_name`\n",
    "2. You can turn that string into a list of strings by doing this: \n",
    "```python\n",
    "name = \"Pre-MAP\"\n",
    "name_list = list(name)\n",
    "print(name_list)\n",
    "```\n",
    "which yields `['P', 'r', 'e', '-', 'M', 'A', 'P']`. Do this to make a list out of your name.\n",
    "3. Get the second through seventh letters in your name with slicing. "
   ]
  },
  {
   "cell_type": "code",
   "execution_count": 10,
   "metadata": {
    "collapsed": false,
    "deletable": true,
    "editable": true
   },
   "outputs": [
    {
     "name": "stdout",
     "output_type": "stream",
     "text": [
      "['M', 'A', 'P', '2', '0']\n"
     ]
    }
   ],
   "source": [
    "astr192 = ['P', 'r', 'e', 'M', 'A', 'P', '2', '0', '1', '8']\n",
    "print(astr192[3:8])"
   ]
  },
  {
   "cell_type": "markdown",
   "metadata": {
    "deletable": true,
    "editable": true
   },
   "source": [
    "You can get all elements starting with the third element by doing `name_list[2:]`, and you can get all elements up to the third by doing `name_list[:3]`. Give it a try below: "
   ]
  },
  {
   "cell_type": "code",
   "execution_count": 13,
   "metadata": {
    "collapsed": false,
    "deletable": true,
    "editable": true
   },
   "outputs": [
    {
     "data": {
      "text/plain": [
       "['P', 'r', 'e']"
      ]
     },
     "execution_count": 13,
     "metadata": {},
     "output_type": "execute_result"
    }
   ],
   "source": [
    "astr192[:3]"
   ]
  },
  {
   "cell_type": "markdown",
   "metadata": {
    "deletable": true,
    "editable": true
   },
   "source": [
    "This will be useful when you have long lists of numbers in the near future. "
   ]
  },
  {
   "cell_type": "markdown",
   "metadata": {
    "collapsed": true,
    "deletable": true,
    "editable": true
   },
   "source": [
    "*** \n",
    "\n",
    "## Adding items to a list\n",
    "\n",
    "Let's say someone new transferred into the class, and you want to add their age to the `ages` list. We can do that with the `append` function, which you call like this:\n",
    "```python\n",
    "new_height = 65\n",
    "heights.append(new_height)\n",
    "print(heights)\n",
    "```\n",
    "In the second line, `heights` is the list that we're _appending_ a new number to, `.append()` says to append the number in parentheses onto `heights`.\n",
    "\n",
    "Copy and paste the code above into the cell below **and execute the cell once**, to see the output."
   ]
  },
  {
   "cell_type": "code",
   "execution_count": 20,
   "metadata": {
    "collapsed": false,
    "deletable": true,
    "editable": true
   },
   "outputs": [
    {
     "name": "stdout",
     "output_type": "stream",
     "text": [
      "[65, 66, 67, 70, 72, 64.8, 68, 65, 70, 62, 64, 65, 65, 65, 65, 65, 65, 65]\n"
     ]
    }
   ],
   "source": [
    "new_height = 65\n",
    "heights.append(new_height)\n",
    "print(heights)"
   ]
  },
  {
   "cell_type": "markdown",
   "metadata": {
    "deletable": true,
    "editable": true
   },
   "source": [
    "### Example 11:\n",
    "\n",
    "What would happen if you executed the cell above a second time? Try it and check your answer."
   ]
  },
  {
   "cell_type": "code",
   "execution_count": null,
   "metadata": {
    "collapsed": true,
    "deletable": true,
    "editable": true
   },
   "outputs": [],
   "source": []
  }
 ],
 "metadata": {
  "kernelspec": {
   "display_name": "Python [conda env:py36]",
   "language": "python",
   "name": "conda-env-py36-py"
  },
  "language_info": {
   "codemirror_mode": {
    "name": "ipython",
    "version": 3
   },
   "file_extension": ".py",
   "mimetype": "text/x-python",
   "name": "python",
   "nbconvert_exporter": "python",
   "pygments_lexer": "ipython3",
   "version": "3.6.2"
  }
 },
 "nbformat": 4,
 "nbformat_minor": 0
}
