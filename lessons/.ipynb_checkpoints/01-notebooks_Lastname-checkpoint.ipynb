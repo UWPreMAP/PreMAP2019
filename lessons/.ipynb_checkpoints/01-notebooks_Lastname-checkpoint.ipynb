{
 "cells": [
  {
   "cell_type": "markdown",
   "metadata": {
    "deletable": true,
    "editable": true
   },
   "source": [
    "[Pre-MAP Course Website](http://depts.washington.edu/premap/seminar/cohort-14-2018-seminar/) | [Pre-MAP GitHub](https://github.com/UWPreMAP/PreMAP2018) | [Google](https://www.google.com)\n",
    "\n",
    "# iPython Notebooks\n",
    "\n",
    "### Definitions \n",
    "\n",
    "Most of the coding in Python that we will do in class will be in this environment. This is an iPython Notebook. Let's define some things: \n",
    "\n",
    "* _Python_ is a programming language\n",
    "* _iPython_ is a slick command line interface for using Python, which can make using Python a bit easier\n",
    "* _iPython Notebooks_ are files that you open in a web browser, which can run Python code, and contain nicely formatted text, links, images, and other things. \n",
    "\n",
    "There are ways to write and execute Python code outside of the iPython Notebook. We'll learn some of those later.\n",
    "\n",
    "## Notebook features\n",
    "\n",
    "A notebook is made up of _cells_. Below is an empty _code_ cell, which is where you will write code. \n",
    "\n",
    "Traditionally, the first line of code you write in a new language is one that commands the computer to say hello to you. In Python, the `print` command is used to return some output to the screen for a user to read. In the cell below, type the following command:\n",
    "\n",
    "```python\n",
    "print(\"Hello, world!\")\n",
    "```\n",
    "\n",
    "To _execute_ the code, press `Shift+Enter` with the cursor in the cell that you want to run. "
   ]
  },
  {
   "cell_type": "code",
   "execution_count": 1,
   "metadata": {
    "collapsed": false,
    "deletable": true,
    "editable": true
   },
   "outputs": [
    {
     "name": "stdout",
     "output_type": "stream",
     "text": [
      "Hello, world!\n"
     ]
    }
   ],
   "source": [
    "print(\"Hello, world!\")"
   ]
  },
  {
   "cell_type": "markdown",
   "metadata": {
    "deletable": true,
    "editable": true
   },
   "source": [
    "You should now see the text `Hello, world!` below the cell. That's the output that you generated with your first line of code! \n",
    "\n",
    "You can `print` anything to the screen if it's written between two quotes. \n",
    "\n",
    "```python\n",
    "print(\"Here are some numbers and a smiley: 1, 2, 3, 4 =D\")\n",
    "```\n",
    "\n",
    "Characters, numbers and spaces surrounded by quotes are called _strings_. Try printing your own string below, both single and double quotes will work: "
   ]
  },
  {
   "cell_type": "code",
   "execution_count": 2,
   "metadata": {
    "collapsed": false,
    "deletable": true,
    "editable": true
   },
   "outputs": [
    {
     "name": "stdout",
     "output_type": "stream",
     "text": [
      "Here are some numbers and a smiley: 1, 2, 3, 4 =D\n"
     ]
    }
   ],
   "source": [
    "print(\"Here are some numbers and a smiley: 1, 2, 3, 4 =D\")"
   ]
  },
  {
   "cell_type": "markdown",
   "metadata": {
    "deletable": true,
    "editable": true
   },
   "source": [
    "Now let's create a _variable_, which represents something. Let's write your name in a string and save it to the variable `name`. Create a variable by typing a variable name, and putting an equals sign next to it, and the thing you want to save into the variable on the right of the equals sign. Note - order is important!\n",
    "\n",
    "```python\n",
    "name = \"Margaret Lazzarini\"\n",
    "```\n",
    "\n",
    "Create a variable that contains your name in the cell below, and execute the cell with `Ctrl+Enter`"
   ]
  },
  {
   "cell_type": "code",
   "execution_count": 6,
   "metadata": {
    "collapsed": true,
    "deletable": true,
    "editable": true
   },
   "outputs": [],
   "source": [
    "name = \"Margaret Lazzarini \""
   ]
  },
  {
   "cell_type": "markdown",
   "metadata": {
    "deletable": true,
    "editable": true
   },
   "source": [
    "Now you can use the variable `name` anywhere in your code to access its contents (as long as you remembered to execute the cell above). For example, print your name in the cell below with:\n",
    "\n",
    "```python\n",
    "print(name)\n",
    "```"
   ]
  },
  {
   "cell_type": "code",
   "execution_count": 4,
   "metadata": {
    "collapsed": false,
    "deletable": true,
    "editable": true
   },
   "outputs": [
    {
     "name": "stdout",
     "output_type": "stream",
     "text": [
      "Margaret Lazzarini\n"
     ]
    }
   ],
   "source": [
    "print(name)"
   ]
  },
  {
   "cell_type": "markdown",
   "metadata": {
    "deletable": true,
    "editable": true
   },
   "source": [
    "We can print a string multiple times if we multiply the variable by the number of times we want to see the string. For example, here's how I'd calculate my name three times\n",
    "```python\n",
    "print(10 * name)\n",
    "```\n",
    "Do the same with yours below: "
   ]
  },
  {
   "cell_type": "code",
   "execution_count": 7,
   "metadata": {
    "collapsed": false,
    "deletable": true,
    "editable": true
   },
   "outputs": [
    {
     "name": "stdout",
     "output_type": "stream",
     "text": [
      "Margaret Lazzarini Margaret Lazzarini Margaret Lazzarini Margaret Lazzarini Margaret Lazzarini Margaret Lazzarini Margaret Lazzarini Margaret Lazzarini Margaret Lazzarini Margaret Lazzarini \n"
     ]
    }
   ],
   "source": [
    "print(10 * name)"
   ]
  },
  {
   "cell_type": "markdown",
   "metadata": {
    "deletable": true,
    "editable": true
   },
   "source": [
    "Typically we use programs to do things that are inconvenient to do by hand. We'll see a bunch of examples in class that do inconvenient things quickly. Here's our first one! \n",
    "\n",
    "\n",
    "### Example 1\n",
    "\n",
    "In _Harry Potter and the Order of the Phoenix_, Dolores Umbridge makes students write \"I must not tell lies\" on parchment (and therefore into their hands). If I had you write that quote one hundred times, you would likely get frustrated. Let's print that quote one hundred times, using Python! \n",
    "\n",
    "1. Create a variable containing the string \"I must not tell lies\"\n",
    "2. Print the variable\n",
    "3. To duplicate a string a bunch of times, multiply the variable by the number of times that you want to see it. Hint: the sign for multiplication is `*`. "
   ]
  },
  {
   "cell_type": "code",
   "execution_count": 10,
   "metadata": {
    "collapsed": false,
    "deletable": true,
    "editable": true
   },
   "outputs": [
    {
     "name": "stdout",
     "output_type": "stream",
     "text": [
      "I must not tell lies \n",
      "I must not tell lies \n",
      "I must not tell lies \n",
      "I must not tell lies \n",
      "I must not tell lies \n",
      "I must not tell lies \n",
      "I must not tell lies \n",
      "I must not tell lies \n",
      "I must not tell lies \n",
      "I must not tell lies \n",
      "I must not tell lies \n",
      "I must not tell lies \n",
      "I must not tell lies \n",
      "I must not tell lies \n",
      "I must not tell lies \n",
      "I must not tell lies \n",
      "I must not tell lies \n",
      "I must not tell lies \n",
      "I must not tell lies \n",
      "I must not tell lies \n",
      "I must not tell lies \n",
      "I must not tell lies \n",
      "I must not tell lies \n",
      "I must not tell lies \n",
      "I must not tell lies \n",
      "I must not tell lies \n",
      "I must not tell lies \n",
      "I must not tell lies \n",
      "I must not tell lies \n",
      "I must not tell lies \n",
      "I must not tell lies \n",
      "I must not tell lies \n",
      "I must not tell lies \n",
      "I must not tell lies \n",
      "I must not tell lies \n",
      "I must not tell lies \n",
      "I must not tell lies \n",
      "I must not tell lies \n",
      "I must not tell lies \n",
      "I must not tell lies \n",
      "I must not tell lies \n",
      "I must not tell lies \n",
      "I must not tell lies \n",
      "I must not tell lies \n",
      "I must not tell lies \n",
      "I must not tell lies \n",
      "I must not tell lies \n",
      "I must not tell lies \n",
      "I must not tell lies \n",
      "I must not tell lies \n",
      "I must not tell lies \n",
      "I must not tell lies \n",
      "I must not tell lies \n",
      "I must not tell lies \n",
      "I must not tell lies \n",
      "I must not tell lies \n",
      "I must not tell lies \n",
      "I must not tell lies \n",
      "I must not tell lies \n",
      "I must not tell lies \n",
      "I must not tell lies \n",
      "I must not tell lies \n",
      "I must not tell lies \n",
      "I must not tell lies \n",
      "I must not tell lies \n",
      "I must not tell lies \n",
      "I must not tell lies \n",
      "I must not tell lies \n",
      "I must not tell lies \n",
      "I must not tell lies \n",
      "I must not tell lies \n",
      "I must not tell lies \n",
      "I must not tell lies \n",
      "I must not tell lies \n",
      "I must not tell lies \n",
      "I must not tell lies \n",
      "I must not tell lies \n",
      "I must not tell lies \n",
      "I must not tell lies \n",
      "I must not tell lies \n",
      "I must not tell lies \n",
      "I must not tell lies \n",
      "I must not tell lies \n",
      "I must not tell lies \n",
      "I must not tell lies \n",
      "I must not tell lies \n",
      "I must not tell lies \n",
      "I must not tell lies \n",
      "I must not tell lies \n",
      "I must not tell lies \n",
      "I must not tell lies \n",
      "I must not tell lies \n",
      "I must not tell lies \n",
      "I must not tell lies \n",
      "I must not tell lies \n",
      "I must not tell lies \n",
      "I must not tell lies \n",
      "I must not tell lies \n",
      "I must not tell lies \n",
      "I must not tell lies \n",
      "\n"
     ]
    }
   ],
   "source": [
    "lies = \"I must not tell lies \\n\"\n",
    "print(100*lies)"
   ]
  },
  {
   "cell_type": "markdown",
   "metadata": {
    "deletable": true,
    "editable": true
   },
   "source": [
    "You may be wondering - how do I get a line break (_newline_) to show up between each quotes? Line breaks and tabs, for example, are _special characters_. When you're looking for some feature of Python that you're unfamiliar with, don't ever hesitate to Google your question. \n",
    "\n",
    "### Example 2: Python + Google\n",
    "\n",
    "Whenever you want to learn something in new, Google the word `python` and the thing you want to learn about. In this case, the first few hits from searching \"`python special characters`\" will give you some hints. \n",
    "\n",
    "Use what you learned in the cell below to print the quote from above with line breaks in between each quote: "
   ]
  },
  {
   "cell_type": "code",
   "execution_count": null,
   "metadata": {
    "collapsed": false,
    "deletable": true,
    "editable": true
   },
   "outputs": [],
   "source": []
  },
  {
   "cell_type": "markdown",
   "metadata": {
    "deletable": true,
    "editable": true
   },
   "source": [
    "### Example 3: Peers\n",
    "\n",
    "Another resource you have for learning in Pre-MAP is your peers. **Group work is encouraged (and sometimes required) in this class.** If you haven't done so yet, turn to your neighbors to your left and right and introduce yourself! Compare your solutions to the previous exercises and see how they differ. \n",
    "\n",
    "***\n",
    "\n",
    "### Example 4: Errors\n",
    "\n",
    "Code doesn't always work. When code fails, Python prints a message that's meant to help you figure out what went wrong. Try copy and pasting some of your code from above into the cell below, and see if you can break it. This should be easy. Try removing a parenthesis or a quote."
   ]
  },
  {
   "cell_type": "code",
   "execution_count": 12,
   "metadata": {
    "collapsed": false,
    "deletable": true,
    "editable": true
   },
   "outputs": [
    {
     "name": "stdout",
     "output_type": "stream",
     "text": [
      "Margaret Lazzarini \n"
     ]
    }
   ],
   "source": [
    "print(name)"
   ]
  },
  {
   "cell_type": "markdown",
   "metadata": {
    "deletable": true,
    "editable": true
   },
   "source": [
    "If you forgot a parenthesis, you'll see: \n",
    "\n",
    "```\n",
    "  File \"<ipython-input-18-5a042a0f0398>\", line 2\n",
    "    print(quote\n",
    "               ^\n",
    "SyntaxError: unexpected EOF while parsing\n",
    "```\n",
    "\n",
    "This a `SyntaxError` - _syntax_ is like the grammar of a program. See the caret symbol (`^`) pointing to the place where the quote should be? That's your hint to fix the code, by putting in the missing parenthesis. \n",
    "\n",
    "If you remove a quote, you'll see this: \n",
    "\n",
    "```\n",
    "  File \"<ipython-input-17-940964e7f8ab>\", line 1\n",
    "    quote = \"I must not tell lies\n",
    "                                 ^\n",
    "SyntaxError: EOL while scanning string literal\n",
    "```\n",
    "\n",
    "This is a `SyntaxError` too, but now there's a more specific message telling us what's wrong. If you're like me, that message sounds technical, and it doesn't help. When this happens...\n",
    "\n",
    "### Example 5: StackOverflow\n",
    "\n",
    "Google for the error message from above containing \"EOL\" (what does that mean!?), and the word \"python\". The first few hits will be from a website called `StackOverflow` - read them! This is a website where people post code questions, and other people respond with answers. For most questions, there will be a few responses showing various approaches to solving the problem. \n",
    "\n",
    "Can you figure out what the above error message is communicating now? \n",
    "\n",
    "*** \n",
    "\n",
    "### Example 6: `<tab>` complete\n",
    "\n",
    "This iPython Notebook remembers what variables you've been working with. This is handy because it can save you some typing. In the cell below, type the characters `na` and press the `<tab>` button. You'll see that it completes the variable name `name` (if you've used that variable above). \n",
    "\n",
    "Name a few variables with long names below, like this (creativity welcome!): \n",
    "```python\n",
    "favorite_color = 'blue'\n",
    "this_is_a_long_variable_name = 'yes, it is'\n",
    "i_really_wouldnt_want_to_type_this_out_again = \"nope nope nope\"\n",
    "```\n",
    "\n",
    "Execute the cell, and in the cell below, start typing the variable names. Before you complete the variable name, press `<tab>`, and it will complete your variable name for you."
   ]
  },
  {
   "cell_type": "code",
   "execution_count": 13,
   "metadata": {
    "collapsed": true,
    "deletable": true,
    "editable": true
   },
   "outputs": [],
   "source": [
    "favorite_color = 'yellow'"
   ]
  },
  {
   "cell_type": "code",
   "execution_count": null,
   "metadata": {
    "collapsed": false,
    "deletable": true,
    "editable": true
   },
   "outputs": [],
   "source": [
    "print(favorite_color)"
   ]
  },
  {
   "cell_type": "code",
   "execution_count": 14,
   "metadata": {
    "collapsed": true
   },
   "outputs": [],
   "source": [
    "this_is_a_long_variable_name = 'yes, it is'"
   ]
  },
  {
   "cell_type": "code",
   "execution_count": null,
   "metadata": {
    "collapsed": true
   },
   "outputs": [],
   "source": []
  },
  {
   "cell_type": "code",
   "execution_count": null,
   "metadata": {
    "collapsed": true
   },
   "outputs": [],
   "source": []
  },
  {
   "cell_type": "code",
   "execution_count": null,
   "metadata": {
    "collapsed": true
   },
   "outputs": [],
   "source": []
  },
  {
   "cell_type": "markdown",
   "metadata": {
    "collapsed": true,
    "deletable": true,
    "editable": true
   },
   "source": [
    "Make a conscious effort to remember to `<tab>` complete, and it will save you lots of time in the future!"
   ]
  },
  {
   "cell_type": "code",
   "execution_count": null,
   "metadata": {
    "collapsed": true,
    "deletable": true,
    "editable": true
   },
   "outputs": [],
   "source": []
  }
 ],
 "metadata": {
  "anaconda-cloud": {},
  "kernelspec": {
   "display_name": "Python [conda env:py36]",
   "language": "python",
   "name": "conda-env-py36-py"
  },
  "language_info": {
   "codemirror_mode": {
    "name": "ipython",
    "version": 3
   },
   "file_extension": ".py",
   "mimetype": "text/x-python",
   "name": "python",
   "nbconvert_exporter": "python",
   "pygments_lexer": "ipython3",
   "version": "3.6.2"
  }
 },
 "nbformat": 4,
 "nbformat_minor": 0
}
