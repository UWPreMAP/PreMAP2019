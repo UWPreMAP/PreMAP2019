{
 "cells": [
  {
   "cell_type": "markdown",
   "metadata": {
    "deletable": true,
    "editable": true
   },
   "source": [
    "[Pre-MAP Course Website](http://depts.washington.edu/premap/seminar/cohort-14-2018-seminar/) | [Pre-MAP GitHub](https://github.com/UWPreMAP/PreMAP2018) | [Google](https://www.google.com)\n",
    "\n",
    "# Plotting with `matplotlib` \n",
    "\n",
    "*examples in this notebook are based on Nicholas Hunt-Walker's [plotting tutorial](https://github.com/nhuntwalker/teaching/blob/master/plotting_in_python.ipynb) and Jake VanderPlas' [matplotlib tutorial](https://github.com/jakevdp/2014_fall_ASTR599/blob/master/notebooks/06_MatplotlibIntro.ipynb)*\n",
    "\n",
    "In this notebook we will learn how to make basic plots like scatter plots, histograms and line plots in using matplotlib in python.\n",
    "\n",
    "## The gallery\n",
    "\n",
    "If you know what you want a plot to look like, but you don't know the code to make it, go to the [matplotlib gallery](http://matplotlib.org/gallery.html), where you can see examples and see the source code that generated them."
   ]
  },
  {
   "cell_type": "markdown",
   "metadata": {
    "deletable": true,
    "editable": true
   },
   "source": [
    "## Basic Plot Commands\n",
    "\n",
    "Some of the basic plotting commands include\n",
    "```python\n",
    "plt.plot()         # all purpose plotting function\n",
    "plt.errorbar()     # plotting with errorbars\n",
    "plt.loglog(), plt.semilogx(), plt.semilogy()   # plotting in logarithmic space\n",
    "```"
   ]
  },
  {
   "cell_type": "code",
   "execution_count": null,
   "metadata": {
    "collapsed": false,
    "deletable": true,
    "editable": true
   },
   "outputs": [],
   "source": [
    "# we use matplotlib and specifically pyplot\n",
    "# the convention is to import it like this:\n",
    "import matplotlib.pyplot as plt \n",
    "\n",
    "# We'll also read some data using astropy, so let's import that\n",
    "import numpy as np \n",
    "from astropy.io import ascii"
   ]
  },
  {
   "cell_type": "code",
   "execution_count": null,
   "metadata": {
    "collapsed": false,
    "deletable": true,
    "editable": true
   },
   "outputs": [],
   "source": [
    "# I'm also using this \"magic\" function to make my plots appear in this notebook\n",
    "# Only do this when working with notebooks\n",
    "%matplotlib inline"
   ]
  },
  {
   "cell_type": "markdown",
   "metadata": {
    "deletable": true,
    "editable": true
   },
   "source": [
    "Let's make some sample `x` and `y` data, and plot it with the `plt.plot` command:"
   ]
  },
  {
   "cell_type": "code",
   "execution_count": null,
   "metadata": {
    "collapsed": false,
    "deletable": true,
    "editable": true
   },
   "outputs": [],
   "source": [
    "# Sample data\n",
    "x = np.arange(10)\n",
    "y = np.arange(10, 20)\n",
    "\n",
    "# Make the plot, then show the plot\n",
    "plt.plot(x, y)\n",
    "plt.show()"
   ]
  },
  {
   "cell_type": "markdown",
   "metadata": {
    "deletable": true,
    "editable": true
   },
   "source": [
    "You can customize a bunch of features within the plot:\n",
    "* `markersize` sets the symbol size \n",
    "* `color` sets the color\n",
    "* The first argument after y sets the marker shape. Try: `x`, `.`, `o`, `+`, `--`, `-.`, `:`"
   ]
  },
  {
   "cell_type": "code",
   "execution_count": null,
   "metadata": {
    "collapsed": false,
    "deletable": true,
    "editable": true
   },
   "outputs": [],
   "source": [
    "plt.plot(x, y, '.', markersize=20, color='red')  \n",
    "plt.show()"
   ]
  },
  {
   "cell_type": "markdown",
   "metadata": {
    "deletable": true,
    "editable": true
   },
   "source": [
    "Let's plot a sine function:"
   ]
  },
  {
   "cell_type": "code",
   "execution_count": null,
   "metadata": {
    "collapsed": false,
    "deletable": true,
    "editable": true
   },
   "outputs": [],
   "source": [
    "# Let's make x go from zero to 4*pi\n",
    "x = np.linspace(0, 4*np.pi, 50)\n",
    "y = np.sin(x)\n",
    "\n",
    "# This will be a thick dashed line:\n",
    "plt.plot(x, y, linestyle='--', linewidth=5) \n",
    "\n",
    "# Add labels to the axes\n",
    "plt.xlabel('Xlabel') \n",
    "plt.ylabel('Ylable')\n",
    "\n",
    "# Set the plot title\n",
    "plt.title('Sine Curve')\n",
    "plt.show()"
   ]
  },
  {
   "cell_type": "markdown",
   "metadata": {
    "deletable": true,
    "editable": true
   },
   "source": [
    "Let's plot a figure with errorbars:"
   ]
  },
  {
   "cell_type": "code",
   "execution_count": null,
   "metadata": {
    "collapsed": false,
    "deletable": true,
    "editable": true
   },
   "outputs": [],
   "source": [
    "# Let's plot y=x^3\n",
    "x = np.arange(10)\n",
    "y = x**3\n",
    "\n",
    "# Let's make up some errorbars in x and y\n",
    "xerr_values = 0.2 * np.sqrt(x)\n",
    "yerr_values = 5 * np.sqrt(y)\n",
    "\n",
    "# Call the errorbar function \n",
    "plt.errorbar(x, y, xerr=xerr_values, yerr=yerr_values)\n",
    "plt.show()"
   ]
  },
  {
   "cell_type": "markdown",
   "metadata": {
    "deletable": true,
    "editable": true
   },
   "source": [
    "There are three options for log-plots: `plt.loglog()`, `plt.semilogx()`, `plt.semilogy()`"
   ]
  },
  {
   "cell_type": "code",
   "execution_count": null,
   "metadata": {
    "collapsed": false,
    "deletable": true,
    "editable": true
   },
   "outputs": [],
   "source": [
    "x = np.linspace(0, 20)\n",
    "y = np.exp(x)\n",
    "\n",
    "plt.semilogy(x, y) \n",
    "plt.show()"
   ]
  },
  {
   "cell_type": "markdown",
   "metadata": {
    "deletable": true,
    "editable": true
   },
   "source": [
    "To add a legend to your plot, include the `label` argument in the plot command, then call `plt.legend()` at the end of the plotting commands, before `plt.show()`."
   ]
  },
  {
   "cell_type": "code",
   "execution_count": null,
   "metadata": {
    "collapsed": false,
    "deletable": true,
    "editable": true
   },
   "outputs": [],
   "source": [
    "xred = np.random.rand(100)\n",
    "yred = np.random.rand(100)\n",
    "\n",
    "xblue = np.random.rand(20)\n",
    "yblue = np.random.rand(20)\n",
    "\n",
    "plt.plot(xred, yred, '^', color='red', markersize=8, \n",
    "         label='Red Points')\n",
    "\n",
    "plt.plot(xblue, yblue, '+', color='blue', markersize=12, \n",
    "         markeredgewidth=3, label='Blue Points')\n",
    "\n",
    "plt.xlabel('Xaxis')\n",
    "plt.ylabel('Yaxis')\n",
    "\n",
    "plt.legend()\n",
    "\n",
    "# You can also place the legend in different places using this: \n",
    "# plt.legend(loc='lower left')\n",
    "plt.show()"
   ]
  },
  {
   "cell_type": "markdown",
   "metadata": {
    "deletable": true,
    "editable": true
   },
   "source": [
    "To save figures in python you just use `plt.savefig()`:"
   ]
  },
  {
   "cell_type": "code",
   "execution_count": null,
   "metadata": {
    "collapsed": false,
    "deletable": true,
    "editable": true
   },
   "outputs": [],
   "source": [
    "x = np.linspace(0, 10)\n",
    "y = np.sin(x)\n",
    "\n",
    "plt.plot(x, y)\n",
    "plt.title('sin')\n",
    "plt.xlabel('Xaxis')\n",
    "plt.ylabel('Yaxis')\n",
    "\n",
    "# just give savefig the file name, or path to file name that you want to write\n",
    "plt.savefig('sineplot.png') \n",
    "plt.show()"
   ]
  },
  {
   "cell_type": "markdown",
   "metadata": {
    "deletable": true,
    "editable": true
   },
   "source": [
    "Let's make a log-log plot displaying Kepler's law:"
   ]
  },
  {
   "cell_type": "code",
   "execution_count": null,
   "metadata": {
    "collapsed": false,
    "deletable": true,
    "editable": true
   },
   "outputs": [],
   "source": [
    "# Semimajor-axis in units of AU:\n",
    "a_AU = np.array([0.387, 0.723, 1. , 1.524, 5.203, 9.537, 19.191, 30.069, 39.482])\n",
    "\n",
    "# Orbital period in units of years\n",
    "T_yr = np.array([0.24, 0.62, 1., 1.88, 11.86, 29.46, 84.01, 164.8, 247.7])\n",
    "\n",
    "# Let's set gravity and mass of the sun in [cgs] units:\n",
    "G = 6.67e-8\n",
    "Msun = 1.99e+33 \n",
    "\n",
    "plt.loglog(a_AU, T_yr, 'o')\n",
    "plt.xlabel('Semi-Major Axis [AU]')\n",
    "plt.ylabel('Period [yrs]')\n",
    "plt.show()"
   ]
  },
  {
   "cell_type": "code",
   "execution_count": null,
   "metadata": {
    "collapsed": false,
    "deletable": true,
    "editable": true
   },
   "outputs": [],
   "source": [
    "# now plot a function over the data\n",
    "# as you work more in python you will learn how to actually fit models to your data \n",
    "def keplers_third_law(a, M):\n",
    "    return np.sqrt((4*np.pi**2 * a**3) / (G * M))\n",
    "\n",
    "# Convert semimajor-axis into centimeters\n",
    "a_cm = a_AU * 1.496e+13 \n",
    "\n",
    "# Convert period into seconds\n",
    "T_s = T_yr * 3.154e+7\n",
    "\n",
    "plt.loglog(a_cm, T_s, 'o')\n",
    "plt.loglog(a_cm, keplers_third_law(a_cm, Msun), '--', \n",
    "           label='Keplers Third Law') # try swapping out Msun with something else and see what it looks like \n",
    "plt.xlabel('Semi-Major Axis [cm]')\n",
    "plt.ylabel('Period [s]')\n",
    "plt.legend(loc=2)\n",
    "plt.show()"
   ]
  },
  {
   "cell_type": "markdown",
   "metadata": {
    "deletable": true,
    "editable": true
   },
   "source": [
    "## Scatter Plots "
   ]
  },
  {
   "cell_type": "code",
   "execution_count": null,
   "metadata": {
    "collapsed": false,
    "deletable": true,
    "editable": true
   },
   "outputs": [],
   "source": [
    "# first let's read in some data to use for plotting\n",
    "galaxy_table = ascii.read('data/mygalaxy.dat')\n",
    "galaxy_table[:5]"
   ]
  },
  {
   "cell_type": "code",
   "execution_count": null,
   "metadata": {
    "collapsed": false,
    "deletable": true,
    "editable": true
   },
   "outputs": [],
   "source": [
    "# simple scatter plot\n",
    "plt.scatter(galaxy_table['col1'], galaxy_table['col2'])\n",
    "plt.show()"
   ]
  },
  {
   "cell_type": "markdown",
   "metadata": {
    "deletable": true,
    "editable": true
   },
   "source": [
    "**SIDE NOTE:** If you are running things in the IPython environment or from a script you would want to do something like the following to get your plots to show up in a new window:\n",
    "```python\n",
    "plt.scatter(galaxy_table['col1'], galaxy_table['col2'])\n",
    "plt.show()\n",
    "```\n",
    "\n",
    "In an IPython Notebook, you will see the plot outputs whether or not you call `plt.show()` because we've used the `%matplotlib inline` magic function."
   ]
  },
  {
   "cell_type": "markdown",
   "metadata": {
    "deletable": true,
    "editable": true
   },
   "source": [
    "Let's break down these basic examples:\n",
    "- We are running functions called \"plot\" or \"scatter\" that take specific arguments.\n",
    "- The most basic arguments that these functions take are in the form of (x,y) values for the plot, and we get these from a data table. \n",
    "- We can use more specific arugments like 'o' to customize things like the plot symbol (marker) that we are using. \n",
    "\n",
    "With plt.scatter() you can change things like point color, point size, point edge color and point type. The argument syntax for adding these options are as follows: \n",
    "\n",
    "- color = 'colorname'; could be 'b' for blue, 'k' for black, 'r' for red\n",
    "- s = number; changes marker size\n",
    "- markeredgecolor = `None` or 'colorname'\n",
    "- marker = 'symbolname', i.e. `'s'` for square, `'o'` for circle, `'+'` for cross, `'x'` for x, `'*'` for star, `'^'` for triangle, etc.\n",
    "\n",
    "Let's do an example:"
   ]
  },
  {
   "cell_type": "code",
   "execution_count": null,
   "metadata": {
    "collapsed": false,
    "deletable": true,
    "editable": true
   },
   "outputs": [],
   "source": [
    "plt.scatter(galaxy_table['col1'], galaxy_table['col2'], \n",
    "            color='blue', s=1, edgecolor='None', marker='o')\n",
    "plt.show()"
   ]
  },
  {
   "cell_type": "code",
   "execution_count": null,
   "metadata": {
    "collapsed": false,
    "deletable": true,
    "editable": true
   },
   "outputs": [],
   "source": [
    "# here would be the equivalent statement using plt.plot(), note that the syntax is a little different \n",
    "plt.plot(galaxy_table['col1'], galaxy_table['col2'], 'o', \n",
    "         color='blue', markersize=1, markeredgecolor='None')\n",
    "plt.show()"
   ]
  },
  {
   "cell_type": "markdown",
   "metadata": {
    "deletable": true,
    "editable": true
   },
   "source": [
    "The plot is starting to look better, but there is one really important thing that is missing: **axis labels.** These are very easy to put in in matplotlib using ```plt.xlabel() and plt.ylabel().``` These functions take strings as their arguments for the labels, but can also take other arguments that case the text format: "
   ]
  },
  {
   "cell_type": "code",
   "execution_count": null,
   "metadata": {
    "collapsed": false,
    "deletable": true,
    "editable": true
   },
   "outputs": [],
   "source": [
    "plt.scatter(galaxy_table['col1'], galaxy_table['col2'], color='blue', \n",
    "            s=1, edgecolor='None', marker='o')\n",
    "\n",
    "plt.xlabel('Galactic Longitude (degrees)', \n",
    "           fontweight='bold', size=16)\n",
    "plt.ylabel('Galactic Latitude (degrees)', \n",
    "           fontweight='bold', size=16)\n",
    "plt.show()"
   ]
  },
  {
   "cell_type": "markdown",
   "metadata": {
    "deletable": true,
    "editable": true
   },
   "source": [
    "We can also change things like the axis limits with ```plt.xlim()``` and ```plt.ylim().``` For these we just want to feed it a range of values for each axis: "
   ]
  },
  {
   "cell_type": "code",
   "execution_count": null,
   "metadata": {
    "collapsed": false,
    "deletable": true,
    "editable": true
   },
   "outputs": [],
   "source": [
    "plt.scatter(galaxy_table['col1'], galaxy_table['col2'], \n",
    "            color='blue', s=1, edgecolor='None', marker='o')\n",
    "\n",
    "plt.xlabel('Galactic Longitude (degrees)', \n",
    "           fontweight='bold', size=16)\n",
    "plt.ylabel('Galactic Latitude (degrees)', \n",
    "           fontweight='bold', size=16)\n",
    "\n",
    "plt.xlim([-180,180])\n",
    "plt.ylim([-90,90])\n",
    "plt.show()"
   ]
  },
  {
   "cell_type": "markdown",
   "metadata": {
    "deletable": true,
    "editable": true
   },
   "source": [
    "The axis labels are easy to read, but the numbers and tick marks on the axis are pretty small. We can tweak lots of little things about how the tick marks look, how they are spaced, and if we want to have a grid to guide the reader's eyes. I will give just a couple of examples here: "
   ]
  },
  {
   "cell_type": "code",
   "execution_count": null,
   "metadata": {
    "collapsed": false,
    "deletable": true,
    "editable": true
   },
   "outputs": [],
   "source": [
    "plt.scatter(galaxy_table['col1'], galaxy_table['col2'], \n",
    "            color='blue', s=1, edgecolor='None', marker='o')\n",
    "\n",
    "# Labels\n",
    "plt.xlabel('Galactic Longitude (degrees)', \n",
    "           fontweight='bold', size=16)\n",
    "plt.ylabel('Galactic Latitude (degrees)', \n",
    "           fontweight='bold', size=16)\n",
    "\n",
    "# Set limits\n",
    "plt.xlim([-180,180])\n",
    "plt.ylim([-90,90])\n",
    "\n",
    "# Choose axis ticks\n",
    "plt.xticks(range(-180,210,60), fontsize=16, fontweight='bold') # change tick spacing, font size and bold\n",
    "plt.yticks(range(-90,120,30), fontsize=16, fontweight='bold')\n",
    "\n",
    "# turn on minor tick marks \n",
    "plt.minorticks_on()\n",
    "\n",
    "plt.grid() # turn on a background grip to guide the eye \n",
    "plt.show()"
   ]
  },
  {
   "cell_type": "markdown",
   "metadata": {
    "collapsed": true,
    "deletable": true,
    "editable": true
   },
   "source": [
    "By default the figure is square, but maybe this is not the best way to represent our data. If this is the case we can change the size of the figure: "
   ]
  },
  {
   "cell_type": "code",
   "execution_count": null,
   "metadata": {
    "collapsed": false,
    "deletable": true,
    "editable": true
   },
   "outputs": [],
   "source": [
    "plt.figure(figsize=(10,4)) # change figure size \n",
    "plt.scatter(galaxy_table['col1'], galaxy_table['col2'], \n",
    "            color='blue', s=1, edgecolor='None', marker='o')\n",
    "\n",
    "# Labels\n",
    "plt.xlabel('Galactic Longitude (degrees)', \n",
    "           fontweight='bold', size=16)\n",
    "plt.ylabel('Galactic Latitude (degrees)', \n",
    "           fontweight='bold', size=16)\n",
    "\n",
    "# Set limits\n",
    "plt.xlim([-180,180])\n",
    "plt.ylim([-90,90])\n",
    "\n",
    "# Choose axis ticks\n",
    "plt.xticks(range(-180,210,60), fontsize=16, fontweight='bold') # change tick spacing, font size and bold\n",
    "plt.yticks(range(-90,120,30), fontsize=16, fontweight='bold')\n",
    "\n",
    "# turn on minor tick marks \n",
    "plt.minorticks_on()\n",
    "\n",
    "plt.grid() # turn on a background grip to guide the eye \n",
    "plt.show()"
   ]
  },
  {
   "cell_type": "markdown",
   "metadata": {
    "deletable": true,
    "editable": true
   },
   "source": [
    "The last thing I'll mention here is how to put text on plots. This too is simple as long as you specify (x,y) coordinates for the text. "
   ]
  },
  {
   "cell_type": "code",
   "execution_count": null,
   "metadata": {
    "collapsed": false,
    "deletable": true,
    "editable": true
   },
   "outputs": [],
   "source": [
    "plt.figure(figsize=(10,4)) # change figure size \n",
    "plt.scatter(galaxy_table['col1'], galaxy_table['col2'], \n",
    "            color='blue', s=1, edgecolor='None', marker='o')\n",
    "\n",
    "# the next three lines put text on the figure at the specified coordinates\n",
    "plt.text(-90, -50, 'LMC', fontsize=20) \n",
    "plt.text(-60, -60, 'SMC', fontsize=20)\n",
    "plt.text(0, -30, 'MW Bulge', fontsize=20)\n",
    "\n",
    "plt.xlabel('Galactic Longitude (degrees)', \n",
    "           fontweight='bold', size=16)\n",
    "plt.ylabel('Galactic Latitude (degrees)', \n",
    "           fontweight='bold', size=16)\n",
    "\n",
    "plt.xlim([-180,180])\n",
    "plt.ylim([-90,90])\n",
    "\n",
    "plt.xticks(range(-180,210,60), fontsize=16, fontweight='bold') # change tick spacing, font size and bold\n",
    "plt.yticks(range(-90,120,30), fontsize=16, fontweight='bold')\n",
    "plt.minorticks_on() # turn on minor tick marks \n",
    "plt.grid() # turn on a background grip to guide the eye \n",
    "plt.show()"
   ]
  },
  {
   "cell_type": "markdown",
   "metadata": {
    "deletable": true,
    "editable": true
   },
   "source": [
    "## Exercise 1 ##\n",
    "Take the plot of that demonstrates Kepler's laws in our solar system, and:\n",
    "\n",
    "- label each data point to the correct planet. \n",
    "- change the size of axes label to make them clearer.\n",
    "- make any aesthetic changes that you think enhances the meaning you're tryin to convey with the plot (maybe you want to convey that each planet is a different size, and so change the marker size; maybe you want to convey that inner planets are rocky and outer planets are gaseous, so change the marker colour for a subset of them; etc)"
   ]
  },
  {
   "cell_type": "code",
   "execution_count": null,
   "metadata": {
    "collapsed": true,
    "deletable": true,
    "editable": true
   },
   "outputs": [],
   "source": []
  },
  {
   "cell_type": "markdown",
   "metadata": {
    "collapsed": true,
    "deletable": true,
    "editable": true
   },
   "source": [
    "## Histograms \n",
    "\n",
    "Histograms can be a great way to visualize data, and they are (surprise) easy to make it python! The basic command is \n",
    "```python\n",
    "    num, bins, patches = plt.hist(array, bins=number)\n",
    "```\n",
    "Num refers to the number of elements in each bin, and bins refers to each bin on the x-axis. Note that bins actually gives you bin EDGES, so there will always be num+1 number of bins. We can ignore patches for now. As arguments plt.hist() takes an array and the number of bins you would like (default is bins=10). Some other optional arguments for plt.hist are: \n",
    "\n",
    "- **range:** lower and upper range of bins \n",
    "- **normed:** set to 'True' or 'False.' If true it will return a normalized probability distribution instead of just raw number counts for the y-axis. \n",
    "- **histtype:** can be step to something like 'step', 'stepfilled', or 'bar' for the histogram style. \n",
    "- **weights:** an array of values that must be of the same size as the number of bins. It controls the factor by which the number counts are weighted, i.e. it makes your number counts into number_counts*weight. "
   ]
  },
  {
   "cell_type": "code",
   "execution_count": null,
   "metadata": {
    "collapsed": false,
    "deletable": true,
    "editable": true
   },
   "outputs": [],
   "source": [
    "# plots histogram where the y-axis is counts \n",
    "x = np.random.randn(10000)\n",
    "num, bins, patches = plt.hist(x, bins=50)\n",
    "plt.xlabel('Bins')\n",
    "plt.ylabel('Counts')\n",
    "plt.show()"
   ]
  },
  {
   "cell_type": "code",
   "execution_count": null,
   "metadata": {
    "collapsed": false,
    "deletable": true,
    "editable": true
   },
   "outputs": [],
   "source": [
    "# plots histogram where the y-axis is a probability distribution \n",
    "plt.hist(x, bins=50, normed=True)\n",
    "plt.xlabel('Bins')\n",
    "plt.ylabel('Probability')\n",
    "plt.show()"
   ]
  },
  {
   "cell_type": "code",
   "execution_count": null,
   "metadata": {
    "collapsed": false,
    "deletable": true,
    "editable": true
   },
   "outputs": [],
   "source": [
    "# plots a histogram where the y-axis is a fraction of the total \n",
    "weights = np.ones_like(x)/len(x)\n",
    "plt.hist(x, bins=50, weights=weights)\n",
    "plt.ylabel('Fraction')\n",
    "plt.xlabel('Bins')\n",
    "plt.show()"
   ]
  },
  {
   "cell_type": "code",
   "execution_count": null,
   "metadata": {
    "collapsed": false,
    "deletable": true,
    "editable": true
   },
   "outputs": [],
   "source": [
    "# print out num and bins and see what they look like! what size is each array?\n",
    "# how would you plot this histogram using plt.plot? what is the x value and what is the y value?\n",
    "\n"
   ]
  },
  {
   "cell_type": "markdown",
   "metadata": {
    "deletable": true,
    "editable": true
   },
   "source": [
    "## Subplots\n",
    "\n",
    "Subplots are a way put multiple plots in what amounts to the same figure; think of subplots like an array of plots! The following picture is helpful for understanding how matplotlib places subplots based on row, column, and figure number:\n",
    "\n",
    "<img src=\"images/subplot-grid.png\">"
   ]
  },
  {
   "cell_type": "code",
   "execution_count": null,
   "metadata": {
    "collapsed": false,
    "deletable": true,
    "editable": true
   },
   "outputs": [],
   "source": [
    "# make two side by side plots \n",
    "\n",
    "x1 = np.linspace(0.0, 5.0)\n",
    "x2 = np.linspace(0.0, 2.0)\n",
    "\n",
    "y1 = np.cos(2 * np.pi * x1) * np.exp(-x1)\n",
    "y2 = np.cos(2 * np.pi * x2)\n",
    "\n",
    "plt.figure(figsize=[15,3])\n",
    "plt.subplot(1,2,1) # 1 row, 2 columns, 1st figure \n",
    "plt.plot(x1,y1)\n",
    "plt.xlabel('Xlabel')\n",
    "plt.ylabel('Ylabel')\n",
    "\n",
    "plt.subplot(1,2,2) # 1 row, 2 columns, 2nd figure \n",
    "plt.plot(x2,y2)\n",
    "plt.xlabel('Xlabel')\n",
    "plt.ylabel('Ylabel')\n",
    "plt.show()\n"
   ]
  },
  {
   "cell_type": "code",
   "execution_count": null,
   "metadata": {
    "collapsed": false,
    "deletable": true,
    "editable": true
   },
   "outputs": [],
   "source": [
    "# stack two plots on top of one another\n",
    "\n",
    "plt.subplot(2,1,1) # 2 rows, 1 column, 1st figure \n",
    "plt.plot(x1,y1)\n",
    "plt.xlabel('Xlabel')\n",
    "plt.ylabel('Ylabel')\n",
    "\n",
    "plt.subplot(2,1,2) # 2 rows, 1 column, 2nd figure \n",
    "plt.plot(x2,y2)\n",
    "plt.xlabel('Xlabel')\n",
    "plt.ylabel('Ylabel')\n",
    "plt.show()\n"
   ]
  },
  {
   "cell_type": "markdown",
   "metadata": {
    "deletable": true,
    "editable": true
   },
   "source": [
    "You can do fancier things with subplots like have different plots share the same axis, put smaller plots as insets to larger plots, etc. Again, take a look at things like the matplotlib library for examples of different plots. "
   ]
  },
  {
   "cell_type": "markdown",
   "metadata": {
    "deletable": true,
    "editable": true
   },
   "source": [
    "## Plotting Exoplanets \n",
    "\n",
    "Let's try to make some plots with a new dataset. The file that we'll use is taken from [exoplanets.eu](exoplanets.eu). "
   ]
  },
  {
   "cell_type": "code",
   "execution_count": null,
   "metadata": {
    "collapsed": false,
    "deletable": true,
    "editable": true
   },
   "outputs": [],
   "source": [
    "# don't worry about this way to read in files right now \n",
    "import pandas as pd \n",
    "exoplanets = pd.read_csv('data/exoplanet.eu_catalog_1022.csv')"
   ]
  },
  {
   "cell_type": "code",
   "execution_count": null,
   "metadata": {
    "collapsed": false,
    "deletable": true,
    "editable": true
   },
   "outputs": [],
   "source": [
    "# get rid of some rows with missing values to be safe\n",
    "exoplanets = exoplanets[np.isfinite(exoplanets['orbital_period'])]"
   ]
  },
  {
   "cell_type": "code",
   "execution_count": null,
   "metadata": {
    "collapsed": false,
    "deletable": true,
    "editable": true
   },
   "outputs": [],
   "source": [
    "# let's see what the data table looks like\n",
    "exoplanets.head()"
   ]
  },
  {
   "cell_type": "code",
   "execution_count": null,
   "metadata": {
    "collapsed": false,
    "deletable": true,
    "editable": true
   },
   "outputs": [],
   "source": [
    "# plot distance from host star versus mass (in jupiter masses) for each exoplanet \n",
    "plt.loglog(exoplanets['semi_major_axis'], exoplanets['mass'],'.')\n",
    "plt.annotate(\"Earth\", xy=(1,1/317.), size=12)\n",
    "plt.annotate(\"Jupiter\", xy=(5,1), size=12)\n",
    "plt.xlabel('Semi-Major Axis [AU]',size=20)\n",
    "plt.ylabel('Mass [M$_{Jup}$]', size=20)"
   ]
  },
  {
   "cell_type": "code",
   "execution_count": null,
   "metadata": {
    "collapsed": false,
    "deletable": true,
    "editable": true
   },
   "outputs": [],
   "source": [
    "# let's try to find out if the blobs above separate out by detection type\n",
    "plt.figure(figsize=(10,10))\n",
    "transits = exoplanets[exoplanets['detection_type'] == 'Primary Transit']\n",
    "radial_vel = exoplanets[exoplanets['detection_type'] == 'Radial Velocity']\n",
    "imaging = exoplanets[exoplanets['detection_type'] == 'Imaging']\n",
    "ttv = exoplanets[exoplanets['detection_type'] == 'TTV']\n",
    "plt.loglog(transits['semi_major_axis'], transits['mass'], '.', label='Transit',markersize=12)\n",
    "plt.loglog(radial_vel['semi_major_axis'], radial_vel['mass'], '.', label='Radial Vel', markersize=12)\n",
    "plt.loglog(imaging['semi_major_axis'], imaging['mass'], '.', label='Direct Imaging', markersize=16)\n",
    "plt.loglog(ttv['semi_major_axis'], ttv['mass'], '.', label='TTV', color='cyan', markersize=16)\n",
    "plt.annotate(\"Earth\", xy=(1,1/317.), size=12)\n",
    "plt.annotate(\"Jupiter\", xy=(5,1), size=12)\n",
    "plt.xlabel('Semi-Major Axis [AU]', size=20)\n",
    "plt.ylabel('Mass [M$_{Jup}$]', size=20)\n",
    "plt.legend(loc=4, prop={'size':16})\n",
    "\n"
   ]
  },
  {
   "cell_type": "code",
   "execution_count": null,
   "metadata": {
    "collapsed": false,
    "deletable": true,
    "editable": true
   },
   "outputs": [],
   "source": [
    "# and now just for fun an xkcd style plot! \n",
    "plt.xkcd()\n",
    "plt.scatter(exoplanets['discovered'], exoplanets['radius']*11)\n",
    "plt.xlabel('Year Discovered')\n",
    "plt.ylabel('Radius [R_Earth]')\n",
    "\n",
    "# to revert back to regular plotting:\n",
    "plt.rcdefaults()"
   ]
  },
  {
   "cell_type": "markdown",
   "metadata": {
    "deletable": true,
    "editable": true
   },
   "source": [
    "## Exercise 2 ##\n",
    "Take the plot of exoplanet detections, and edit it so that Earth, Mars, and Jupiter are plotted as data points *with* labels, instead of Earth and Jupiter being just text annotations. \n",
    "\n",
    "After you've made the changes, let's try to interpret this plot. Answer the following questions:\n",
    "\n",
    "- What method is best to look for Jupiter analogues? \n",
    "- Which method is most successful in detecting the masses of planets across a large range of orbital separations? *Why do you think this is?*\n",
    "- Have we found a true Earth analog? \n",
    "- List what types of worlds are represented in the figure, and what region of parameter space they occupy. Name at least 3. (e.g., \"Jupiter analogues are represented in this figure by data points occupying the 5-10 AU and 1-5 $M_J$ space, in the upper right section\")"
   ]
  },
  {
   "cell_type": "code",
   "execution_count": null,
   "metadata": {
    "collapsed": false,
    "deletable": true,
    "editable": true
   },
   "outputs": [],
   "source": []
  },
  {
   "cell_type": "markdown",
   "metadata": {
    "collapsed": true,
    "deletable": true,
    "editable": true
   },
   "source": [
    "## Hertzsprung-Russell Diagram\n",
    "\n",
    "A Hertzsprung-Russell (HR) diagram is a type of scatter plot that is widely used by astronomers. On the x-axis is the color (B-V value), or effective temperature, and on the y-axis is the absolute magnitude, or luminosity. In other words, it is a plot of a star's brightness (y-axis) against its temperature (x-axis). As you can see in the plot below, temperature increases to the left, and brightness increases as you move up the y-axis. Note that this is an idealized depiction of an HR diagram. Observations will always show more scatter! \n",
    "\n",
    "It is also apparent that when plotted in this way, stars fall into distinct groups. The most prominent group is the line extending diagonally across the plot. This is referred to as the \"main sequence,\" and is the stage of stellar evolution where stars spend most of their time. During this stage stars are fusing hydrogen into helium in their cores. When stars eventually move off the main sequence they undergo different pathways of evolution depending on their masses. Some stars will fuse all the way up to iron in their cores, while some, like our sun, will only get to fusing helium. \n",
    "\n",
    "<img src=\"images/hr.png\">"
   ]
  },
  {
   "cell_type": "code",
   "execution_count": null,
   "metadata": {
    "collapsed": true,
    "deletable": true,
    "editable": true
   },
   "outputs": [],
   "source": []
  }
 ],
 "metadata": {
  "anaconda-cloud": {},
  "kernelspec": {
   "display_name": "Python [conda env:py36]",
   "language": "python",
   "name": "conda-env-py36-py"
  },
  "language_info": {
   "codemirror_mode": {
    "name": "ipython",
    "version": 3
   },
   "file_extension": ".py",
   "mimetype": "text/x-python",
   "name": "python",
   "nbconvert_exporter": "python",
   "pygments_lexer": "ipython3",
   "version": "3.6.2"
  }
 },
 "nbformat": 4,
 "nbformat_minor": 0
}
