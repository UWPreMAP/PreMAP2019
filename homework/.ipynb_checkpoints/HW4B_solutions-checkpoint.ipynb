{
 "cells": [
  {
   "cell_type": "markdown",
   "metadata": {},
   "source": [
    "**<font color='red'>Change the name from assignment_lastname to include YOUR last name</font>**. This will make sure that the assignment doesn't get overwritten when you do a git pull in class. "
   ]
  },
  {
   "cell_type": "markdown",
   "metadata": {},
   "source": [
    "# Homework 4B - the coding portion"
   ]
  },
  {
   "cell_type": "markdown",
   "metadata": {},
   "source": [
    "## Due: Friday, October 18 by 5pm"
   ]
  },
  {
   "cell_type": "markdown",
   "metadata": {},
   "source": [
    "Skills: Loops, lists, functions"
   ]
  },
  {
   "cell_type": "markdown",
   "metadata": {},
   "source": [
    "Turn in instructions:\n",
    "1. Before turning in your notebook, make sure you save it first using the floppy disk save icon or File -> save.\n",
    "2. Go to the terminal, open a new tab or window and cd into the directory where you worked on this homework. For most of you that should be ~/PreMAP2019/homework/\n",
    "3. Use the cp command to copy your homework (HW4B_lastname.ipynb) into /astro/store/gradscratch/tmp/premap2019/homework4/"
   ]
  },
  {
   "cell_type": "markdown",
   "metadata": {},
   "source": [
    "Always start with your import statement!"
   ]
  },
  {
   "cell_type": "code",
   "execution_count": 2,
   "metadata": {},
   "outputs": [],
   "source": [
    "import numpy as np\n",
    "from astropy.io import ascii #we're going to use this to import some values from the paper"
   ]
  },
  {
   "cell_type": "markdown",
   "metadata": {},
   "source": [
    "### The exercises in this homework will be related to the reading you did in part A of Homework 4. You can reference the Nature news article  [here](https://www.nature.com/articles/d41586-019-01155-0) and the Astrophysical Journal article  [here](https://drive.google.com/file/d/1nECCmOXoe5S5lc69YEvzCcJm8Zz25Zgj/view?usp=sharing)."
   ]
  },
  {
   "cell_type": "markdown",
   "metadata": {},
   "source": [
    "**Please read before completing exercise 1**\n",
    "Functions are a really useful tool for automating tasks that you want to do over and over again. For this first excercise, we will be building up to writing a function that calculates the Schwartzchild radius, or the size of the event horizon, of a black hole. You can read up a bit more on the Schwartzchild radius [here](http://www.astronomy.ohio-state.edu/~thompson/1144/Lecture19.html) if you would like. The only thing you're really going to need to know is the equation use to calculate the Schwartzchild radius: <br>\n",
    "$R_{S} = \\frac{2\\ G\\ M_{BH}}{c^{2}}$ <br>\n",
    "Where $R_{S}$ is the Schwartzchild radius, or radius of the event horizon. $G$ is the gravitational constant, a physical constant used to calculate gravitational effects. $M_{BH}$ is the mass of the black hole and $c$ is the speed of light, another physical constant."
   ]
  },
  {
   "cell_type": "markdown",
   "metadata": {},
   "source": [
    "First, we need to define our constants: $G$ and $c$. I'm putting in the values for you below, you just need to execute the cell. Note that astronomers use a base set of units called ``cgs``, short for centimeters-grams-seconds. Many of you might be familiar with SI units from a physics class which uses meters-kilograms-seconds. We keep all constants in the same base units to avoid doing too much unit conversion."
   ]
  },
  {
   "cell_type": "code",
   "execution_count": 14,
   "metadata": {
    "collapsed": true
   },
   "outputs": [],
   "source": [
    "G = 6.6725985E-8 #cm^3 g^-1 s^-2\n",
    "c = 2.99792458E10 #cm s^-1"
   ]
  },
  {
   "cell_type": "markdown",
   "metadata": {},
   "source": [
    "**1)**\n",
    "Use the equation above to calculate the size of the Schwartzchild radius for a black hole with a mass of 10$M_{\\odot}$. Note that $1 M_{\\odot}=1.99 \\times 10^{33}$ grams. You will need to multiply 10 by this conversion factor to use the constants above and have your units work out."
   ]
  },
  {
   "cell_type": "code",
   "execution_count": 23,
   "metadata": {},
   "outputs": [
    {
     "name": "stdout",
     "output_type": "stream",
     "text": [
      "2954858.303829219\n"
     ]
    }
   ],
   "source": [
    "m = 10 * 1.99E33\n",
    "R_s = 2 * G * m / c**2\n",
    "print(R_s)"
   ]
  },
  {
   "cell_type": "markdown",
   "metadata": {},
   "source": [
    "**2)**\n",
    "Write a function called `schwartzchild_radius` that takes in a black hole mass and returns the Schwartzchild radius in centimeters. Please refer to our in class notebook on functions if you need to remember the structure a function has in python. Run your function and print out the Schwartzchild radius of a black hole with a mass of $1M_{\\odot}$."
   ]
  },
  {
   "cell_type": "code",
   "execution_count": 16,
   "metadata": {
    "collapsed": true
   },
   "outputs": [],
   "source": [
    "def schwartzchild_radius(m_bh):\n",
    "    solar_mass = 1.99E33 #g\n",
    "    r_s = 2 * G * m_bh * solar_mass / c**2\n",
    "    return r_s"
   ]
  },
  {
   "cell_type": "code",
   "execution_count": 15,
   "metadata": {},
   "outputs": [
    {
     "data": {
      "text/plain": [
       "4.2454860687201425e-06"
      ]
     },
     "execution_count": 15,
     "metadata": {},
     "output_type": "execute_result"
    }
   ],
   "source": [
    "schwartzchild_radius(1)"
   ]
  },
  {
   "cell_type": "markdown",
   "metadata": {},
   "source": [
    "**3)** Copy your function into the cell below and modify it so that it prints out the Schwartzchild radius to screen in both cm and solar radii (X times the radius of the Sun). *Hint: $1 R_{\\odot}=6.96 \\times 10^{10}$ cm.*"
   ]
  },
  {
   "cell_type": "code",
   "execution_count": 17,
   "metadata": {
    "collapsed": true
   },
   "outputs": [],
   "source": [
    "def schwartzchild_radius(m_bh):\n",
    "    solar_mass = 1.99E33 #g\n",
    "    solar_radius = 6.96E10 #cm\n",
    "    r_s = 2 * G * m_bh * solar_mass / c**2\n",
    "    print('Schwartzchild radius in cm =',r_s)\n",
    "    print('Schwartzchild radius in solar radii =',r_s/solar_radius)\n",
    "    return r_s"
   ]
  },
  {
   "cell_type": "code",
   "execution_count": 18,
   "metadata": {},
   "outputs": [
    {
     "name": "stdout",
     "output_type": "stream",
     "text": [
      "Schwartzchild radius in cm = 295485.8303829219\n",
      "Schwartzchild radius in solar radii = 4.2454860687201425e-06\n"
     ]
    },
    {
     "data": {
      "text/plain": [
       "295485.8303829219"
      ]
     },
     "execution_count": 18,
     "metadata": {},
     "output_type": "execute_result"
    }
   ],
   "source": [
    "schwartzchild_radius(1)"
   ]
  },
  {
   "cell_type": "markdown",
   "metadata": {},
   "source": [
    "**4)** Now imagine that we could make a black hole out of the Earth (we can't). The mass of the Earth is $5.9 \\times 10^{27}$ grams. Calculate what the Earth's mass is in terms of solar masses and the use your function to calculate the Schwartzchild radius the Earth would have if it could collapse into a black hole. Google around to find some physical item you are familiar with that is about the same size."
   ]
  },
  {
   "cell_type": "code",
   "execution_count": 1,
   "metadata": {},
   "outputs": [
    {
     "name": "stdout",
     "output_type": "stream",
     "text": [
      "2.9648241206030153e-06\n"
     ]
    },
    {
     "ename": "NameError",
     "evalue": "name 'schwartzchild_radius' is not defined",
     "output_type": "error",
     "traceback": [
      "\u001b[0;31m---------------------------------------------------------------------------\u001b[0m",
      "\u001b[0;31mNameError\u001b[0m                                 Traceback (most recent call last)",
      "\u001b[0;32m<ipython-input-1-d5e01706bcd1>\u001b[0m in \u001b[0;36m<module>\u001b[0;34m()\u001b[0m\n\u001b[1;32m      1\u001b[0m \u001b[0mm_e\u001b[0m \u001b[0;34m=\u001b[0m \u001b[0;36m5.9E27\u001b[0m\u001b[0;34m/\u001b[0m\u001b[0;36m1.99E33\u001b[0m\u001b[0;34m\u001b[0m\u001b[0m\n\u001b[1;32m      2\u001b[0m \u001b[0mprint\u001b[0m\u001b[0;34m(\u001b[0m\u001b[0mm_e\u001b[0m\u001b[0;34m)\u001b[0m\u001b[0;34m\u001b[0m\u001b[0m\n\u001b[0;32m----> 3\u001b[0;31m \u001b[0mschwartzchild_radius\u001b[0m\u001b[0;34m(\u001b[0m\u001b[0mm_e\u001b[0m\u001b[0;34m)\u001b[0m\u001b[0;34m\u001b[0m\u001b[0m\n\u001b[0m",
      "\u001b[0;31mNameError\u001b[0m: name 'schwartzchild_radius' is not defined"
     ]
    }
   ],
   "source": [
    "m_e = 5.9E27/1.99E33\n",
    "print(m_e)\n",
    "schwartzchild_radius(m_e)"
   ]
  },
  {
   "cell_type": "markdown",
   "metadata": {},
   "source": [
    "**5)**\n",
    "The mass of the black hole in the center of M87 that was measured by the Event Horizon Telescope team is $6.5\\times 10^{9} M_{\\odot}$. Calculate the radius of the event horizon for this black hole in both centimeters and solar radii."
   ]
  },
  {
   "cell_type": "code",
   "execution_count": 24,
   "metadata": {},
   "outputs": [
    {
     "name": "stdout",
     "output_type": "stream",
     "text": [
      "Schwartzchild radius in cm = 1920657897488992.5\n",
      "Schwartzchild radius in solar radii = 27595.659446680926\n"
     ]
    },
    {
     "data": {
      "text/plain": [
       "1920657897488992.5"
      ]
     },
     "execution_count": 24,
     "metadata": {},
     "output_type": "execute_result"
    }
   ],
   "source": [
    "schwartzchild_radius(6.5E9)"
   ]
  },
  {
   "cell_type": "markdown",
   "metadata": {},
   "source": [
    "**6)** The ring diameter in the paper is given as ~$42 \\mu$as, or 42 micro-arcseconds. An arcsecond is a unit we us in astronomy to measure how big something looks on the sky. The size of an object in the sky depends on both the size of the object itself and its distance away from us. You can calculate the angular size of an object using the following equation: <br>\n",
    "$\\theta = \\frac{d\\ \\times\\ 206264}{D}$ arcseconds<br>\n",
    "Where $\\theta$ is the angular size of the object in arcseconds. The factor of 206,264 in the equation converts from radians to arcseconds for you. $d$ is the physical diameter of the object and D is the distance to that object. You need both $d$ and $D$ to be given in the same units. Here we will use centimeters. <br>\n",
    "\n",
    "Write a function called `angular_size` that takes in the DIAMETER (not the radius) of an object in centimeters and the distance to that object in centimeters and returns its angular size in arcseconds. The distance to M87 is ~ $5 \\times 10^{25}$ centimeters. Use your function to print out the angular size of the black hole in M87 in arcseconds. Use the radius you calculated in the question above and the distance to M87 listed above for your calculations."
   ]
  },
  {
   "cell_type": "code",
   "execution_count": 25,
   "metadata": {
    "collapsed": true
   },
   "outputs": [],
   "source": [
    "def angular_size(diameter, distance):\n",
    "    d_m87 = 5.0E25 #cm\n",
    "    arcsec = 206264\n",
    "    angular_size = diameter * arcsec / distance\n",
    "    return angular_size"
   ]
  },
  {
   "cell_type": "code",
   "execution_count": 27,
   "metadata": {},
   "outputs": [
    {
     "data": {
      "text/plain": [
       "1.584650322270678e-05"
      ]
     },
     "execution_count": 27,
     "metadata": {},
     "output_type": "execute_result"
    }
   ],
   "source": [
    "angular_size(2*1920657897488992.5, 5.0E25)"
   ]
  },
  {
   "cell_type": "markdown",
   "metadata": {},
   "source": [
    "**7)**\n",
    "How does this angular size compare to the ring diameter listed in the paper? If your answers don't match up, why not (look back at your reading questions from part A)? *Hint: $1 \\mu as = 1.0 \\times 10^{-6} as$* "
   ]
  },
  {
   "cell_type": "markdown",
   "metadata": {},
   "source": []
  },
  {
   "cell_type": "markdown",
   "metadata": {},
   "source": [
    "**8)** Last thing with functions: add a doc-string to your function `schwartzchild_radius` with instructions for a future user (or future you!). Doc-strings are REALLY important when working on a long term research project. You will likely need to go back to code you write a couple of weeks/months/years ago and you need to understand what it does. In addition to adding doc-strings, make sure you comment your code. I always add comments with units for constants, because this can help clarify bugs later on! Check back to your functions notebook from class if you need to remember the syntax for adding a doc-string."
   ]
  },
  {
   "cell_type": "code",
   "execution_count": 21,
   "metadata": {
    "collapsed": true
   },
   "outputs": [],
   "source": [
    "def schwartzchild_radius(m_bh):\n",
    "    \"\"\"\n",
    "    This function takes in a black hole mass in solar masses and returns a Schwartzchild radius in cm.\n",
    "    It will also print the Schwartzchild radius to screen in both cm and solar radii.\"\"\"\n",
    "    solar_mass = 1.99E33 #g\n",
    "    solar_radius = 6.96E10 #cm\n",
    "    r_s = 2 * G * m_bh * solar_mass / c**2\n",
    "    print('Schwartzchild radius in cm =',r_s)\n",
    "    print('Schwartzchild radius in solar radii =',r_s/solar_radius)\n",
    "    return r_s"
   ]
  },
  {
   "cell_type": "markdown",
   "metadata": {},
   "source": [
    "Now use the Jupyter notebook help functionality to view your doc string for your new function!"
   ]
  },
  {
   "cell_type": "code",
   "execution_count": 22,
   "metadata": {
    "collapsed": true
   },
   "outputs": [],
   "source": [
    "schwartzchild_radius?"
   ]
  },
  {
   "cell_type": "markdown",
   "metadata": {},
   "source": [
    "**9)**\n",
    "Now, let's incorporate some lists and loops to utilize our functions! Create a numpy array called `masses` that contains 10 values between 10 and 1,000,000 spaced logarithmically (there is a `numpy` function for this). These values will be the masses of 10 black holes, for which we want to calculate the Schwartzchild radius. <br>\n",
    "\n",
    "For this assignment you will create two different for loops in the cells below. Both loops will be `for` loops that run your `schwartzchild_radius` function on each black hole mass in the array you created above, assuming the masses are in solar mass units. You should include a `print` statement in each loop before you call the `schwartzchild_radius` function that prints out the current black hole mass. <br>\n",
    "\n",
    "Look back at the notebook titled `04-control_flow_Lastname` and scroll to Example 7. **First**, you will make a `for` loop that follows the syntax of the first loop in that example (`for period in orbital_periods:`). **Second**, you will make a `for` loop that follows the syntax in the next code cell (`for i in range(5):`) where the range is the length of your `masses` array."
   ]
  },
  {
   "cell_type": "code",
   "execution_count": 28,
   "metadata": {
    "collapsed": true
   },
   "outputs": [],
   "source": [
    "masses = np.logspace(1,6,10)"
   ]
  },
  {
   "cell_type": "code",
   "execution_count": 31,
   "metadata": {},
   "outputs": [
    {
     "name": "stdout",
     "output_type": "stream",
     "text": [
      "black hole mass = 10.0\n",
      "Schwartzchild radius in cm = 2954858.30383\n",
      "Schwartzchild radius in solar radii = 4.24548606872e-05\n",
      "black hole mass = 35.938136638\n",
      "Schwartzchild radius in cm = 10619210.1469\n",
      "Schwartzchild radius in solar radii = 0.000152574858433\n",
      "black hole mass = 129.154966501\n",
      "Schwartzchild radius in cm = 38163462.5248\n",
      "Schwartzchild radius in solar radii = 0.000548325610988\n",
      "black hole mass = 464.158883361\n",
      "Schwartzchild radius in cm = 137152373.08\n",
      "Schwartzchild radius in solar radii = 0.00197058007298\n",
      "black hole mass = 1668.1005372\n",
      "Schwartzchild radius in cm = 492900072.397\n",
      "Schwartzchild radius in solar radii = 0.00708189759191\n",
      "black hole mass = 5994.84250319\n",
      "Schwartzchild radius in cm = 1771391015.07\n",
      "Schwartzchild radius in solar radii = 0.0254510203315\n",
      "black hole mass = 21544.3469003\n",
      "Schwartzchild radius in cm = 6366049233.9\n",
      "Schwartzchild radius in solar radii = 0.091466224625\n",
      "black hole mass = 77426.3682681\n",
      "Schwartzchild radius in cm = 22878394721.2\n",
      "Schwartzchild radius in solar radii = 0.328712567834\n",
      "black hole mass = 278255.940221\n",
      "Schwartzchild radius in cm = 82220687555.1\n",
      "Schwartzchild radius in solar radii = 1.18133171775\n",
      "black hole mass = 1000000.0\n",
      "Schwartzchild radius in cm = 295485830383.0\n",
      "Schwartzchild radius in solar radii = 4.24548606872\n"
     ]
    }
   ],
   "source": [
    "for i in range(len(masses)):\n",
    "    print('black hole mass =',masses[i])\n",
    "    schwartzchild_radius(masses[i])"
   ]
  },
  {
   "cell_type": "code",
   "execution_count": 32,
   "metadata": {},
   "outputs": [
    {
     "name": "stdout",
     "output_type": "stream",
     "text": [
      "black hole mass = 10.0\n",
      "Schwartzchild radius in cm = 2954858.30383\n",
      "Schwartzchild radius in solar radii = 4.24548606872e-05\n",
      "black hole mass = 35.938136638\n",
      "Schwartzchild radius in cm = 10619210.1469\n",
      "Schwartzchild radius in solar radii = 0.000152574858433\n",
      "black hole mass = 129.154966501\n",
      "Schwartzchild radius in cm = 38163462.5248\n",
      "Schwartzchild radius in solar radii = 0.000548325610988\n",
      "black hole mass = 464.158883361\n",
      "Schwartzchild radius in cm = 137152373.08\n",
      "Schwartzchild radius in solar radii = 0.00197058007298\n",
      "black hole mass = 1668.1005372\n",
      "Schwartzchild radius in cm = 492900072.397\n",
      "Schwartzchild radius in solar radii = 0.00708189759191\n",
      "black hole mass = 5994.84250319\n",
      "Schwartzchild radius in cm = 1771391015.07\n",
      "Schwartzchild radius in solar radii = 0.0254510203315\n",
      "black hole mass = 21544.3469003\n",
      "Schwartzchild radius in cm = 6366049233.9\n",
      "Schwartzchild radius in solar radii = 0.091466224625\n",
      "black hole mass = 77426.3682681\n",
      "Schwartzchild radius in cm = 22878394721.2\n",
      "Schwartzchild radius in solar radii = 0.328712567834\n",
      "black hole mass = 278255.940221\n",
      "Schwartzchild radius in cm = 82220687555.1\n",
      "Schwartzchild radius in solar radii = 1.18133171775\n",
      "black hole mass = 1000000.0\n",
      "Schwartzchild radius in cm = 295485830383.0\n",
      "Schwartzchild radius in solar radii = 4.24548606872\n"
     ]
    }
   ],
   "source": [
    "for mass in masses:\n",
    "    print('black hole mass =',mass)\n",
    "    schwartzchild_radius(mass)"
   ]
  },
  {
   "cell_type": "markdown",
   "metadata": {},
   "source": [
    "**10)**\n",
    "Now copy your second `for` loop from the previous question into the cell below and edit it so that you only print out the black hole mass for the even-indexed black hole masses (indexes of 0, 2, 4, ...). You still want to calculate the Schwartzchild radius for each black hole mass."
   ]
  },
  {
   "cell_type": "code",
   "execution_count": 33,
   "metadata": {},
   "outputs": [
    {
     "name": "stdout",
     "output_type": "stream",
     "text": [
      "black hole mass = 1000000.0\n",
      "Schwartzchild radius in cm = 295485830383.0\n",
      "Schwartzchild radius in solar radii = 4.24548606872\n",
      "Schwartzchild radius in cm = 295485830383.0\n",
      "Schwartzchild radius in solar radii = 4.24548606872\n",
      "black hole mass = 1000000.0\n",
      "Schwartzchild radius in cm = 295485830383.0\n",
      "Schwartzchild radius in solar radii = 4.24548606872\n",
      "Schwartzchild radius in cm = 295485830383.0\n",
      "Schwartzchild radius in solar radii = 4.24548606872\n",
      "black hole mass = 1000000.0\n",
      "Schwartzchild radius in cm = 295485830383.0\n",
      "Schwartzchild radius in solar radii = 4.24548606872\n",
      "Schwartzchild radius in cm = 295485830383.0\n",
      "Schwartzchild radius in solar radii = 4.24548606872\n",
      "black hole mass = 1000000.0\n",
      "Schwartzchild radius in cm = 295485830383.0\n",
      "Schwartzchild radius in solar radii = 4.24548606872\n",
      "Schwartzchild radius in cm = 295485830383.0\n",
      "Schwartzchild radius in solar radii = 4.24548606872\n",
      "black hole mass = 1000000.0\n",
      "Schwartzchild radius in cm = 295485830383.0\n",
      "Schwartzchild radius in solar radii = 4.24548606872\n",
      "Schwartzchild radius in cm = 295485830383.0\n",
      "Schwartzchild radius in solar radii = 4.24548606872\n"
     ]
    }
   ],
   "source": [
    "for i in range(len(masses)):\n",
    "    if i%2 == 0:\n",
    "        print('black hole mass =',mass)\n",
    "    schwartzchild_radius(mass)"
   ]
  }
 ],
 "metadata": {
  "kernelspec": {
   "display_name": "Python 3",
   "language": "python",
   "name": "python3"
  },
  "language_info": {
   "codemirror_mode": {
    "name": "ipython",
    "version": 3
   },
   "file_extension": ".py",
   "mimetype": "text/x-python",
   "name": "python",
   "nbconvert_exporter": "python",
   "pygments_lexer": "ipython3",
   "version": "3.7.8"
  }
 },
 "nbformat": 4,
 "nbformat_minor": 2
}
